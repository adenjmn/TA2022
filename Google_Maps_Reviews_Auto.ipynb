{
 "cells": [
  {
   "cell_type": "code",
   "execution_count": 1,
   "id": "d10b4e4d",
   "metadata": {},
   "outputs": [],
   "source": [
    "# !pip install selenium"
   ]
  },
  {
   "cell_type": "code",
   "execution_count": 1,
   "id": "d5d54851",
   "metadata": {},
   "outputs": [],
   "source": [
    "from selenium import webdriver\n",
    "from selenium.webdriver.common.by import By\n",
    "from selenium.webdriver.common.keys import Keys\n",
    "from selenium.webdriver.support.ui import WebDriverWait\n",
    "from selenium.webdriver.support import expected_conditions as EC\n",
    "from selenium.common.exceptions import TimeoutException\n",
    "\n",
    "import re\n",
    "\n",
    "import pandas as pd\n",
    "import requests\n",
    "from selenium.webdriver.common.desired_capabilities import DesiredCapabilities\n",
    "from selenium.webdriver.common.action_chains import ActionChains\n",
    "from selenium.common.exceptions import NoSuchElementException\n",
    "import time\n",
    "\n",
    "from bs4 import BeautifulSoup"
   ]
  },
  {
   "cell_type": "code",
   "execution_count": 2,
   "id": "20046729",
   "metadata": {},
   "outputs": [
    {
     "name": "stdout",
     "output_type": "stream",
     "text": [
      "Biswa Bangla Gate                  8\n",
      "Inishmurray                        5\n",
      "Pearl River Cruise                 5\n",
      "Sforza Castle                      5\n",
      "Pineapple Plantations (Polom...    5\n",
      "                                  ..\n",
      "Kitesurfing in Maenam              1\n",
      "Sento Imperial Palace              1\n",
      "Heavenly Pillar Cedar              1\n",
      "Everglades National Park           1\n",
      "Penyengat Island                   1\n",
      "Name: Nama, Length: 982, dtype: int64\n",
      "**********\n",
      "Metropol Parasol                 1\n",
      "Topkapi Palace                   1\n",
      "Ugong Rock Adventures            1\n",
      "OliveAnkara                      1\n",
      "Tugu Negara                      1\n",
      "                                ..\n",
      "Pigeon Valley & Rose Valley      1\n",
      "Museo Arqueologico de Cordoba    1\n",
      "Jomtien Beach                    1\n",
      "Bondong Jungle                   1\n",
      "Penyengat Island                 1\n",
      "Name: Nama, Length: 982, dtype: int64\n",
      "===========\n",
      "<class 'pandas.core.frame.DataFrame'>\n",
      "Int64Index: 983 entries, 0 to 1592\n",
      "Data columns (total 4 columns):\n",
      " #   Column      Non-Null Count  Dtype  \n",
      "---  ------      --------------  -----  \n",
      " 0   Unnamed: 0  983 non-null    float64\n",
      " 1   Nama        982 non-null    object \n",
      " 2   Lokasi      948 non-null    object \n",
      " 3   Alamat      981 non-null    object \n",
      "dtypes: float64(1), object(3)\n",
      "memory usage: 26.9+ KB\n"
     ]
    }
   ],
   "source": [
    "import pandas as pd\n",
    "data = pd.read_csv('dataset/halaltrip_dataset.csv')\n",
    "print(data.Nama.value_counts())\n",
    "print(\"**********\")\n",
    "data = data.drop_duplicates(subset=['Nama'])\n",
    "print(data.Nama.value_counts())\n",
    "print(\"===========\")\n",
    "data.info()"
   ]
  },
  {
   "cell_type": "code",
   "execution_count": 3,
   "id": "bd863206",
   "metadata": {},
   "outputs": [
    {
     "name": "stdout",
     "output_type": "stream",
     "text": [
      "948\n"
     ]
    },
    {
     "data": {
      "text/plain": [
       "Unnamed: 0    0\n",
       "Nama          0\n",
       "Lokasi        0\n",
       "Alamat        0\n",
       "dtype: int64"
      ]
     },
     "execution_count": 3,
     "metadata": {},
     "output_type": "execute_result"
    }
   ],
   "source": [
    "data=data.dropna(subset=['Nama','Lokasi'])\n",
    "print(len(data.Nama))\n",
    "data.isnull().sum()"
   ]
  },
  {
   "cell_type": "code",
   "execution_count": 50,
   "id": "ee97b44f",
   "metadata": {},
   "outputs": [],
   "source": [
    "nama_tempat = []\n",
    "username = []\n",
    "review_text = []\n",
    "rating = []\n",
    "rel_date = []\n",
    "rel_date = []\n",
    "jenis = []\n",
    "\n",
    "nama_gmaps = []\n",
    "alamat_gmaps = []\n",
    "\n",
    "nama_maps = []\n",
    "jenis_maps = []\n",
    "alamat_maps = []\n",
    "deskripsi_maps = []"
   ]
  },
  {
   "cell_type": "code",
   "execution_count": 51,
   "id": "d8761c5c",
   "metadata": {
    "scrolled": true
   },
   "outputs": [
    {
     "name": "stdout",
     "output_type": "stream",
     "text": [
      "<class 'pandas.core.frame.DataFrame'>\n",
      "Int64Index: 948 entries, 0 to 1592\n",
      "Data columns (total 4 columns):\n",
      " #   Column      Non-Null Count  Dtype  \n",
      "---  ------      --------------  -----  \n",
      " 0   Unnamed: 0  948 non-null    float64\n",
      " 1   Nama        948 non-null    object \n",
      " 2   Lokasi      948 non-null    object \n",
      " 3   Alamat      948 non-null    object \n",
      "dtypes: float64(1), object(3)\n",
      "memory usage: 25.9+ KB\n",
      "None\n"
     ]
    }
   ],
   "source": [
    "print(data.info())"
   ]
  },
  {
   "cell_type": "code",
   "execution_count": 52,
   "id": "e7467215",
   "metadata": {},
   "outputs": [
    {
     "name": "stdout",
     "output_type": "stream",
     "text": [
      "<class 'pandas.core.frame.DataFrame'>\n",
      "Int64Index: 948 entries, 0 to 1592\n",
      "Data columns (total 4 columns):\n",
      " #   Column      Non-Null Count  Dtype  \n",
      "---  ------      --------------  -----  \n",
      " 0   Unnamed: 0  948 non-null    float64\n",
      " 1   Nama        948 non-null    object \n",
      " 2   Lokasi      948 non-null    object \n",
      " 3   Alamat      948 non-null    object \n",
      "dtypes: float64(1), object(3)\n",
      "memory usage: 25.9+ KB\n"
     ]
    }
   ],
   "source": [
    "data.info()"
   ]
  },
  {
   "cell_type": "code",
   "execution_count": 53,
   "id": "c9f89daf",
   "metadata": {
    "scrolled": false
   },
   "outputs": [
    {
     "data": {
      "text/plain": [
       "824         Fishermanâ€™s Village Walkin..., Bophut\n",
       "826                              Blhhr Farm, Taipei\n",
       "828                      Hamilton Gardens, Hamilton\n",
       "829                        Mount Coot-tha, Brisbane\n",
       "830                       Datca Peninsula, Marmaris\n",
       "833                            Kawah Putih, Bandung\n",
       "834                      geiranger fjord, Geiranger\n",
       "835                     Koutoubia Mosque, Marrakech\n",
       "837         Eureka! Zientzia Museoa, San SebastiÃ¡n\n",
       "839                       Samui Disc Golf, Ko Samed\n",
       "840         Toyota Commemorative Museum ..., Nagoya\n",
       "841                            Marine Drive, Cochin\n",
       "842            Piazza Garden @ Changi T1, Singapore\n",
       "845                      Aquitaine Museum, Bordeaux\n",
       "847                              Don.Quijote, Japan\n",
       "848                    AlcÃ¡zar of Seville, Seville\n",
       "849                      Clock Tower Jaffna, Jaffna\n",
       "852    Palace of the Grand Master o..., Rhodes Town\n",
       "853              Nelson Lakes National Park, Nelson\n",
       "856                         MuseumsQuartier, Vienna\n",
       "857                             Han Market, Da Nang\n",
       "858                           Alanya Museum, Alanya\n",
       "860                          Times Square, New York\n",
       "861                        Topkapi Palace, Istanbul\n",
       "866                       Olango Island , Cebu City\n",
       "870                 Ugong Rock Adventures , Palawan\n",
       "871                          OliveAnkara, Singapore\n",
       "872                       Tugu Negara, Kuala Lumpur\n",
       "873                           Abraj Al Bait, Makkah\n",
       "876             Ø§Ø­Ù…Ø¯ Ø¹Ø¨Ø¯ Ø§Ù„Ø¨Ø§Ù‚ÙŠ, Yemen\n",
       "878                          Interlaken, Interlaken\n",
       "879                 Mystery Valley, T'ien-chu-ts'un\n",
       "880      Melbourne Star Observation W..., Melbourne\n",
       "882                     PraÃ§a do ComÃ©rcio, Lisbon\n",
       "883                       Chefchaouen, Chefchaouene\n",
       "884                        The English Market, Cork\n",
       "885                       Umeda Sky Building, Osaka\n",
       "889      Esplanade - Theatres on the ..., Singapore\n",
       "890                      Design Orchard , Singapore\n",
       "892                             Mount Pulag, Baguio\n",
       "893                                Taytay , Palawan\n",
       "897                   Donegal Bay Waterbus, Donegal\n",
       "899                 Binh Chau Hot Springs, Vung Tau\n",
       "900                Carioca Aqueduct, Rio de Janeiro\n",
       "901                        Waikato Museum, Hamilton\n",
       "904          Chiang Mai National Museum, Chiang Mai\n",
       "905                 Hfc! Halal fried chicken, Italy\n",
       "906               Queen Victoria Market , Melbourne\n",
       "909                              Taipei 101, Taipei\n",
       "910                Queensland Art Gallery, Brisbane\n",
       "dtype: object"
      ]
     },
     "execution_count": 53,
     "metadata": {},
     "output_type": "execute_result"
    }
   ],
   "source": [
    "n_key = data.Nama+', '+data.Lokasi\n",
    "key = n_key.iloc[600:650]\n",
    "key"
   ]
  },
  {
   "cell_type": "code",
   "execution_count": 8,
   "id": "16d52324",
   "metadata": {
    "scrolled": true
   },
   "outputs": [
    {
     "name": "stderr",
     "output_type": "stream",
     "text": [
      "<ipython-input-8-392daadcb381>:1: DeprecationWarning: executable_path has been deprecated, please pass in a Service object\n",
      "  driver = webdriver.Chrome(executable_path = \"chromedriver.exe\")\n"
     ]
    }
   ],
   "source": [
    "driver = webdriver.Chrome(executable_path = \"chromedriver.exe\")"
   ]
  },
  {
   "cell_type": "code",
   "execution_count": 54,
   "id": "d5bb4f97",
   "metadata": {},
   "outputs": [],
   "source": [
    "response = BeautifulSoup(driver.page_source, 'html.parser')\n",
    "def scrape():\n",
    "    for i in key:\n",
    "        url =\"https://www.google.com/maps\"\n",
    "        driver.get(url)\n",
    "        \n",
    "        time.sleep(5)\n",
    "#         respon = BeautifulSoup(driver.page_source, 'html.parser')\n",
    "        Place = driver.find_element_by_class_name(\"tactile-searchbox-input\")\n",
    "        Place.send_keys(i)\n",
    "        time.sleep(3)\n",
    "        Submit = driver.find_element_by_xpath(\"/html/body/div[3]/div[9]/div[3]/div[1]/div[1]/div[1]/div[2]/div[1]/button\")\n",
    "        Submit.click()\n",
    "        time.sleep(3)\n",
    "        try:\n",
    "            selectP = driver.find_element_by_xpath(\"/html/body/div[3]/div[9]/div[8]/div/div[1]/div/div/div[2]/div[1]/div[1]/div/a\")\n",
    "            selectP.click()            \n",
    "        except:\n",
    "            pass\n",
    "        try:\n",
    "            time.sleep(5)\n",
    "            n_maps = driver.find_element_by_xpath('/html/body/div[3]/div[9]/div[9]/div/div/div[1]/div[2]/div/div[1]/div/div/div[2]/div[1]/div[1]/div[1]/h1').text\n",
    "            nama_maps.append(n_maps)\n",
    "        except:\n",
    "            n_maps = i\n",
    "            nama_maps.append(i+\" - Tidak ditemukan di maps\")\n",
    "    \n",
    "        try:\n",
    "#             time.sleep(5)\n",
    "            n_alamat = driver.find_element_by_xpath('/html/body/div[3]/div[9]/div[9]/div/div/div[1]/div[2]/div/div[1]/div/div/div[9]/div[1]/button/div[1]/div[2]/div[1]').text\n",
    "            alamat_maps.append(n_alamat)\n",
    "        except:\n",
    "            alamat_maps.append(None)\n",
    "\n",
    "        try:\n",
    "            time.sleep(5)\n",
    "            n_jenis = driver.find_element_by_xpath('/html/body/div[3]/div[9]/div[9]/div/div/div[1]/div[2]/div/div[1]/div/div/div[2]/div[1]/div[1]/div[2]/div/div[2]/span[1]/span[1]/button').text\n",
    "            jenis.append(n_jenis)\n",
    "        except:\n",
    "            jenis.append(None)\n",
    "\n",
    "        \n",
    "        x = 0\n",
    "        \n",
    "        \n",
    "        try:\n",
    "            time.sleep(5)\n",
    "            Reviews = driver.find_element_by_xpath(\"/html/body/div[3]/div[9]/div[9]/div/div/div[1]/div[2]/div/div[1]/div/div/div[2]/div[1]/div[1]/div[2]/div/div[1]/span[1]/span/span[1]/span[2]/span[1]/button\")\n",
    "            Reviews.click()\n",
    "            time.sleep(5)\n",
    "            \n",
    "            response = BeautifulSoup(driver.page_source, 'html.parser')\n",
    "            pause_time = 3 # Waiting time after each scroll.\n",
    "                        \n",
    "            n_data = response.find('div',class_=\"jANrlb\").find('div',class_=\"fontBodySmall\").text\n",
    "            print('N-DATA',n_data)\n",
    "\n",
    "            n_data_clean = re.sub(\"[^0-9]\", \"\", n_data)\n",
    "            print('N-DATA-CLEAN',n_data_clean)\n",
    "    #         try:        \n",
    "            results = int(n_data_clean)\n",
    "            sort = driver.find_element_by_xpath(\"/html/body/div[3]/div[9]/div[9]/div/div/div[1]/div[2]/div/div[1]/div/div/div[2]/div[7]/div[2]/button/span\")\n",
    "            sort.click()\n",
    "            sortNews = driver.find_element_by_xpath(\"/html/body/div[3]/div[3]/div[1]/ul/li[2]\")\n",
    "            sortNews.click()\n",
    "        except:\n",
    "            results = 0\n",
    "            \n",
    "\n",
    "        \n",
    "        print(results)\n",
    "        if results > 200:\n",
    "            results = 200;\n",
    "            print(results);\n",
    "\n",
    "        while(x<results):\n",
    "        #     scrollable_div = driver.find_element_by_css_selector('div.section-layout.section-scrollbox.scrollable-y.scrollable-show')\n",
    "            try:\n",
    "                scrollable_div = driver.find_element_by_xpath('/html/body/div[3]/div[9]/div[9]/div/div/div[1]/div[2]/div/div[1]/div/div/div[2]')\n",
    "                driver.execute_script('arguments[0].scrollTop = arguments[0].scrollHeight', scrollable_div)# Scroll it to the bottom.\n",
    "            except:\n",
    "                x = 999999\n",
    "#                 pass\n",
    "            time.sleep(pause_time) # wait for more reviews to load.\n",
    "            x=x+9\n",
    "\n",
    "        response = BeautifulSoup(driver.page_source, 'html.parser')\n",
    "        \n",
    "\n",
    "\n",
    "        rlist = response.find_all('div', class_='jftiEf')\n",
    "\n",
    "        for r in rlist:\n",
    "            nama_gmaps.append(n_maps)\n",
    "            try:\n",
    "                alamat_gmaps.append(n_alamat)\n",
    "            except:\n",
    "                alamat_gmaps.append(None)\n",
    "            username.append(r.find('div',class_='d4r55').find('span').text)\n",
    "            try:\n",
    "                review_text.append(r.find('span', class_='wiI7pd').text) \n",
    "            except Exception:\n",
    "                review_text.append(None)\n",
    "            try:\n",
    "                rating.append(r.find('span', class_='kvMYJc')[\"aria-label\"]) \n",
    "            except Exception:\n",
    "                rating.append(None)\n",
    "            try:\n",
    "                rel_date.append(r.find('span', class_='rsqaWe').text)  \n",
    "            except Exception:\n",
    "                rel_date.append(None)\n",
    "                \n",
    "        print(\"== Total SCRAPE ==\")\n",
    "        print(n_maps)\n",
    "        print(len(nama_gmaps))\n",
    "        print(\"################\")"
   ]
  },
  {
   "cell_type": "code",
   "execution_count": 55,
   "id": "f631a58d",
   "metadata": {
    "scrolled": true
   },
   "outputs": [
    {
     "name": "stderr",
     "output_type": "stream",
     "text": [
      "<ipython-input-54-d5fd90cbd9bf>:9: DeprecationWarning: find_element_by_class_name is deprecated. Please use find_element(by=By.CLASS_NAME, value=name) instead\n",
      "  Place = driver.find_element_by_class_name(\"tactile-searchbox-input\")\n",
      "<ipython-input-54-d5fd90cbd9bf>:12: DeprecationWarning: find_element_by_xpath is deprecated. Please use find_element(by=By.XPATH, value=xpath) instead\n",
      "  Submit = driver.find_element_by_xpath(\"/html/body/div[3]/div[9]/div[3]/div[1]/div[1]/div[1]/div[2]/div[1]/button\")\n",
      "<ipython-input-54-d5fd90cbd9bf>:16: DeprecationWarning: find_element_by_xpath is deprecated. Please use find_element(by=By.XPATH, value=xpath) instead\n",
      "  selectP = driver.find_element_by_xpath(\"/html/body/div[3]/div[9]/div[8]/div/div[1]/div/div/div[2]/div[1]/div[1]/div/a\")\n",
      "<ipython-input-54-d5fd90cbd9bf>:22: DeprecationWarning: find_element_by_xpath is deprecated. Please use find_element(by=By.XPATH, value=xpath) instead\n",
      "  n_maps = driver.find_element_by_xpath('/html/body/div[3]/div[9]/div[9]/div/div/div[1]/div[2]/div/div[1]/div/div/div[2]/div[1]/div[1]/div[1]/h1').text\n",
      "<ipython-input-54-d5fd90cbd9bf>:30: DeprecationWarning: find_element_by_xpath is deprecated. Please use find_element(by=By.XPATH, value=xpath) instead\n",
      "  n_alamat = driver.find_element_by_xpath('/html/body/div[3]/div[9]/div[9]/div/div/div[1]/div[2]/div/div[1]/div/div/div[9]/div[1]/button/div[1]/div[2]/div[1]').text\n",
      "<ipython-input-54-d5fd90cbd9bf>:37: DeprecationWarning: find_element_by_xpath is deprecated. Please use find_element(by=By.XPATH, value=xpath) instead\n",
      "  n_jenis = driver.find_element_by_xpath('/html/body/div[3]/div[9]/div[9]/div/div/div[1]/div[2]/div/div[1]/div/div/div[2]/div[1]/div[1]/div[2]/div/div[2]/span[1]/span[1]/button').text\n",
      "<ipython-input-54-d5fd90cbd9bf>:48: DeprecationWarning: find_element_by_xpath is deprecated. Please use find_element(by=By.XPATH, value=xpath) instead\n",
      "  Reviews = driver.find_element_by_xpath(\"/html/body/div[3]/div[9]/div[9]/div/div/div[1]/div[2]/div/div[1]/div/div/div[2]/div[1]/div[1]/div[2]/div/div[1]/span[1]/span/span[1]/span[2]/span[1]/button\")\n"
     ]
    },
    {
     "name": "stdout",
     "output_type": "stream",
     "text": [
      "0\n",
      "== Total SCRAPE ==\n",
      "Fishermanâ€™s Village Walkin..., Bophut\n",
      "0\n",
      "################\n",
      "N-DATA 73 reviews\n",
      "N-DATA-CLEAN 73\n"
     ]
    },
    {
     "name": "stderr",
     "output_type": "stream",
     "text": [
      "<ipython-input-54-d5fd90cbd9bf>:62: DeprecationWarning: find_element_by_xpath is deprecated. Please use find_element(by=By.XPATH, value=xpath) instead\n",
      "  sort = driver.find_element_by_xpath(\"/html/body/div[3]/div[9]/div[9]/div/div/div[1]/div[2]/div/div[1]/div/div/div[2]/div[7]/div[2]/button/span\")\n",
      "<ipython-input-54-d5fd90cbd9bf>:64: DeprecationWarning: find_element_by_xpath is deprecated. Please use find_element(by=By.XPATH, value=xpath) instead\n",
      "  sortNews = driver.find_element_by_xpath(\"/html/body/div[3]/div[3]/div[1]/ul/li[2]\")\n"
     ]
    },
    {
     "name": "stdout",
     "output_type": "stream",
     "text": [
      "73\n"
     ]
    },
    {
     "name": "stderr",
     "output_type": "stream",
     "text": [
      "<ipython-input-54-d5fd90cbd9bf>:79: DeprecationWarning: find_element_by_xpath is deprecated. Please use find_element(by=By.XPATH, value=xpath) instead\n",
      "  scrollable_div = driver.find_element_by_xpath('/html/body/div[3]/div[9]/div[9]/div/div/div[1]/div[2]/div/div[1]/div/div/div[2]')\n"
     ]
    },
    {
     "name": "stdout",
     "output_type": "stream",
     "text": [
      "== Total SCRAPE ==\n",
      "竹子湖故鄉金針花農園\n",
      "73\n",
      "################\n",
      "N-DATA 12,643 reviews\n",
      "N-DATA-CLEAN 12643\n",
      "12643\n",
      "200\n",
      "== Total SCRAPE ==\n",
      "Hamilton Gardens\n",
      "293\n",
      "################\n",
      "0\n",
      "== Total SCRAPE ==\n",
      "Mount Coot-Tha\n",
      "293\n",
      "################\n",
      "0\n",
      "== Total SCRAPE ==\n",
      "Datca Peninsula, Marmaris\n",
      "293\n",
      "################\n",
      "N-DATA 5,717 reviews\n",
      "N-DATA-CLEAN 5717\n",
      "5717\n",
      "200\n",
      "== Total SCRAPE ==\n",
      "White Crater\n",
      "523\n",
      "################\n",
      "N-DATA 1,243 reviews\n",
      "N-DATA-CLEAN 1243\n",
      "1243\n",
      "200\n",
      "== Total SCRAPE ==\n",
      "Geirangerfjord\n",
      "753\n",
      "################\n",
      "N-DATA 11,795 reviews\n",
      "N-DATA-CLEAN 11795\n",
      "11795\n",
      "200\n",
      "== Total SCRAPE ==\n",
      "Koutoubia\n",
      "983\n",
      "################\n",
      "N-DATA 1,768 reviews\n",
      "N-DATA-CLEAN 1768\n",
      "1768\n",
      "200\n",
      "== Total SCRAPE ==\n",
      "Eureka! Zientzia Museoa\n",
      "1213\n",
      "################\n",
      "N-DATA 86 reviews\n",
      "N-DATA-CLEAN 86\n",
      "86\n",
      "== Total SCRAPE ==\n",
      "Samui Disc Golf\n",
      "1299\n",
      "################\n",
      "N-DATA 7,528 reviews\n",
      "N-DATA-CLEAN 7528\n",
      "7528\n",
      "200\n",
      "== Total SCRAPE ==\n",
      "Toyota Commemorative Museum of Industry and Technology\n",
      "1529\n",
      "################\n",
      "0\n",
      "== Total SCRAPE ==\n",
      "Marine Drive\n",
      "1529\n",
      "################\n",
      "0\n",
      "== Total SCRAPE ==\n",
      "Piazza Garden @ Changi T1, Singapore\n",
      "1529\n",
      "################\n",
      "N-DATA 2,999 reviews\n",
      "N-DATA-CLEAN 2999\n",
      "2999\n",
      "200\n",
      "== Total SCRAPE ==\n",
      "Musée d'Aquitaine\n",
      "1759\n",
      "################\n",
      "0\n",
      "== Total SCRAPE ==\n",
      "Don.Quijote, Japan\n",
      "1759\n",
      "################\n",
      "0\n",
      "== Total SCRAPE ==\n",
      "AlcÃ¡zar of Seville, Seville\n",
      "1759\n",
      "################\n",
      "0\n",
      "== Total SCRAPE ==\n",
      "Jaffna Clock Tower\n",
      "1759\n",
      "################\n",
      "0\n",
      "== Total SCRAPE ==\n",
      "Palace of the Grand Master of the Knights of Rhodes\n",
      "1762\n",
      "################\n",
      "N-DATA 710 reviews\n",
      "N-DATA-CLEAN 710\n",
      "710\n",
      "200\n",
      "== Total SCRAPE ==\n",
      "Nelson Lakes National Park\n",
      "1982\n",
      "################\n",
      "N-DATA 25,593 reviews\n",
      "N-DATA-CLEAN 25593\n",
      "25593\n",
      "200\n",
      "== Total SCRAPE ==\n",
      "MuseumsQuartier\n",
      "2212\n",
      "################\n",
      "N-DATA 17,364 reviews\n",
      "N-DATA-CLEAN 17364\n",
      "17364\n",
      "200\n",
      "== Total SCRAPE ==\n",
      "Han Market\n",
      "2442\n",
      "################\n",
      "0\n",
      "== Total SCRAPE ==\n",
      "Alanya Museum, Alanya\n",
      "2442\n",
      "################\n",
      "0\n",
      "== Total SCRAPE ==\n",
      "Times Square, New York\n",
      "2442\n",
      "################\n",
      "N-DATA 73,418 reviews\n",
      "N-DATA-CLEAN 73418\n",
      "73418\n",
      "200\n",
      "== Total SCRAPE ==\n",
      "Topkapi Palace Museum\n",
      "2672\n",
      "################\n",
      "N-DATA 111 reviews\n",
      "N-DATA-CLEAN 111\n",
      "111\n",
      "== Total SCRAPE ==\n",
      "Olango Island\n",
      "2783\n",
      "################\n",
      "0\n",
      "== Total SCRAPE ==\n",
      "Ugong Rock Adventures , Palawan\n",
      "2783\n",
      "################\n",
      "N-DATA 23 reviews\n",
      "N-DATA-CLEAN 23\n",
      "23\n",
      "== Total SCRAPE ==\n",
      "OliveAnkara\n",
      "2806\n",
      "################\n",
      "0\n",
      "== Total SCRAPE ==\n",
      "Tugu Negara, Kuala Lumpur\n",
      "2806\n",
      "################\n",
      "N-DATA 15,435 reviews\n",
      "N-DATA-CLEAN 15435\n",
      "15435\n",
      "200\n",
      "== Total SCRAPE ==\n",
      "Abraj Al-Bait Towers\n",
      "3036\n",
      "################\n",
      "0\n",
      "== Total SCRAPE ==\n",
      "Ø§Ø­Ù…Ø¯ Ø¹Ø¨Ø¯ Ø§Ù„Ø¨Ø§Ù‚ÙŠ, Yemen\n",
      "3036\n",
      "################\n",
      "0\n",
      "== Total SCRAPE ==\n",
      "Interlaken\n",
      "3036\n",
      "################\n",
      "N-DATA 144 reviews\n",
      "N-DATA-CLEAN 144\n",
      "144\n",
      "== Total SCRAPE ==\n",
      "Mystery Valley Golf Club\n",
      "3036\n",
      "################\n",
      "0\n",
      "== Total SCRAPE ==\n",
      "Melbourne Star Observation W..., Melbourne\n",
      "3036\n",
      "################\n",
      "0\n",
      "== Total SCRAPE ==\n",
      "PraÃ§a do ComÃ©rcio, Lisbon\n",
      "3036\n",
      "################\n",
      "0\n",
      "== Total SCRAPE ==\n",
      "Chefchaouen\n",
      "3036\n",
      "################\n",
      "N-DATA 9,221 reviews\n",
      "N-DATA-CLEAN 9221\n",
      "9221\n",
      "200\n",
      "== Total SCRAPE ==\n",
      "The English Market\n",
      "3266\n",
      "################\n",
      "N-DATA 23,153 reviews\n",
      "N-DATA-CLEAN 23153\n",
      "23153\n",
      "200\n",
      "== Total SCRAPE ==\n",
      "Umeda Sky Building, Osaka\n",
      "3496\n",
      "################\n",
      "N-DATA 16,590 reviews\n",
      "N-DATA-CLEAN 16590\n",
      "16590\n",
      "200\n",
      "== Total SCRAPE ==\n",
      "Esplanade - Theatres on the Bay, Singapore\n",
      "3836\n",
      "################\n",
      "N-DATA 186 reviews\n",
      "N-DATA-CLEAN 186\n",
      "186\n",
      "== Total SCRAPE ==\n",
      "Design Orchard\n",
      "4022\n",
      "################\n",
      "0\n",
      "== Total SCRAPE ==\n",
      "Mount Pulag, Baguio\n",
      "4022\n",
      "################\n",
      "0\n",
      "== Total SCRAPE ==\n",
      "Taytay\n",
      "4022\n",
      "################\n",
      "N-DATA 351 reviews\n",
      "N-DATA-CLEAN 351\n",
      "351\n",
      "200\n",
      "== Total SCRAPE ==\n",
      "Donegal Bay Waterbus\n",
      "4192\n",
      "################\n",
      "0\n",
      "== Total SCRAPE ==\n",
      "Binh Chau Hot Springs, Vung Tau\n",
      "4192\n",
      "################\n",
      "N-DATA 17,812 reviews\n",
      "N-DATA-CLEAN 17812\n",
      "17812\n",
      "200\n",
      "== Total SCRAPE ==\n",
      "Carioca Aqueduct\n",
      "4422\n",
      "################\n",
      "N-DATA 1,238 reviews\n",
      "N-DATA-CLEAN 1238\n",
      "1238\n",
      "200\n",
      "== Total SCRAPE ==\n",
      "Waikato Museum Te Whare Taonga o Waikato\n",
      "4802\n",
      "################\n",
      "N-DATA 454 reviews\n",
      "N-DATA-CLEAN 454\n",
      "454\n",
      "200\n",
      "== Total SCRAPE ==\n",
      "Chiang Mai National Museum\n",
      "5032\n",
      "################\n",
      "0\n",
      "== Total SCRAPE ==\n",
      "HFC Hari Fried Chicken\n",
      "5032\n",
      "################\n",
      "N-DATA 39,232 reviews\n",
      "N-DATA-CLEAN 39232\n",
      "39232\n",
      "200\n",
      "== Total SCRAPE ==\n",
      "Queen Victoria Market\n",
      "5372\n",
      "################\n",
      "0\n",
      "== Total SCRAPE ==\n",
      "Taipei 101, Taipei\n",
      "5382\n",
      "################\n",
      "N-DATA 7,781 reviews\n",
      "N-DATA-CLEAN 7781\n",
      "7781\n",
      "200\n",
      "== Total SCRAPE ==\n",
      "Gallery of Modern Art\n",
      "5572\n",
      "################\n"
     ]
    }
   ],
   "source": [
    "scrape()"
   ]
  },
  {
   "cell_type": "code",
   "execution_count": 56,
   "id": "da3bde9e",
   "metadata": {
    "scrolled": true
   },
   "outputs": [],
   "source": [
    "# key"
   ]
  },
  {
   "cell_type": "code",
   "execution_count": 57,
   "id": "0b6dded1",
   "metadata": {},
   "outputs": [
    {
     "name": "stdout",
     "output_type": "stream",
     "text": [
      "['Gallery of Modern Art', 'Olango Island', 'Donegal Bay Waterbus', 'Waikato Museum Te Whare Taonga o Waikato', 'Taipei 101, Taipei', 'OliveAnkara', 'The English Market', 'MuseumsQuartier', 'Hamilton Gardens', 'Geirangerfjord', 'Topkapi Palace Museum', 'Eureka! Zientzia Museoa', 'Samui Disc Golf', 'Umeda Sky Building, Osaka', 'Koutoubia', 'Queen Victoria Market', 'Toyota Commemorative Museum of Industry and Technology', '竹子湖故鄉金針花農園', \"Musée d'Aquitaine\", 'Carioca Aqueduct', 'Abraj Al-Bait Towers', 'White Crater', 'Esplanade - Theatres on the Bay, Singapore', 'Design Orchard', 'Han Market', 'Palace of the Grand Master of the Knights of Rhodes', 'Chiang Mai National Museum', 'Nelson Lakes National Park']\n",
      "[None]\n"
     ]
    }
   ],
   "source": [
    "unique_nama = list(set(nama_gmaps))\n",
    "print(unique_nama)\n",
    "unique_addr = list(set(alamat_gmaps))\n",
    "print(unique_addr)"
   ]
  },
  {
   "cell_type": "code",
   "execution_count": 58,
   "id": "c05a12eb",
   "metadata": {},
   "outputs": [
    {
     "data": {
      "text/plain": [
       "5572"
      ]
     },
     "execution_count": 58,
     "metadata": {},
     "output_type": "execute_result"
    }
   ],
   "source": [
    "len(username)"
   ]
  },
  {
   "cell_type": "code",
   "execution_count": null,
   "id": "2df90893",
   "metadata": {},
   "outputs": [],
   "source": []
  },
  {
   "cell_type": "code",
   "execution_count": 59,
   "id": "1e9d20df",
   "metadata": {},
   "outputs": [
    {
     "data": {
      "text/html": [
       "<div>\n",
       "<style scoped>\n",
       "    .dataframe tbody tr th:only-of-type {\n",
       "        vertical-align: middle;\n",
       "    }\n",
       "\n",
       "    .dataframe tbody tr th {\n",
       "        vertical-align: top;\n",
       "    }\n",
       "\n",
       "    .dataframe thead th {\n",
       "        text-align: right;\n",
       "    }\n",
       "</style>\n",
       "<table border=\"1\" class=\"dataframe\">\n",
       "  <thead>\n",
       "    <tr style=\"text-align: right;\">\n",
       "      <th></th>\n",
       "      <th>Nama_Pengguna</th>\n",
       "      <th>Rating</th>\n",
       "      <th>Nama_Tempat</th>\n",
       "      <th>Alamat</th>\n",
       "      <th>Tanggal</th>\n",
       "      <th>Review</th>\n",
       "    </tr>\n",
       "  </thead>\n",
       "  <tbody>\n",
       "    <tr>\n",
       "      <th>0</th>\n",
       "      <td>尹。</td>\n",
       "      <td>5 stars</td>\n",
       "      <td>竹子湖故鄉金針花農園</td>\n",
       "      <td>None</td>\n",
       "      <td>21 hours ago</td>\n",
       "      <td></td>\n",
       "    </tr>\n",
       "    <tr>\n",
       "      <th>1</th>\n",
       "      <td>ll kI</td>\n",
       "      <td>5 stars</td>\n",
       "      <td>竹子湖故鄉金針花農園</td>\n",
       "      <td>None</td>\n",
       "      <td>21 hours ago</td>\n",
       "      <td></td>\n",
       "    </tr>\n",
       "    <tr>\n",
       "      <th>2</th>\n",
       "      <td>張宜婷</td>\n",
       "      <td>5 stars</td>\n",
       "      <td>竹子湖故鄉金針花農園</td>\n",
       "      <td>None</td>\n",
       "      <td>9 months ago</td>\n",
       "      <td>(Translated by Google) It’s pretty in Taipei, ...</td>\n",
       "    </tr>\n",
       "    <tr>\n",
       "      <th>3</th>\n",
       "      <td>陳品介</td>\n",
       "      <td>5 stars</td>\n",
       "      <td>竹子湖故鄉金針花農園</td>\n",
       "      <td>None</td>\n",
       "      <td>9 months ago</td>\n",
       "      <td></td>\n",
       "    </tr>\n",
       "    <tr>\n",
       "      <th>4</th>\n",
       "      <td>Alex Tsai</td>\n",
       "      <td>4 stars</td>\n",
       "      <td>竹子湖故鄉金針花農園</td>\n",
       "      <td>None</td>\n",
       "      <td>10 months ago</td>\n",
       "      <td>(Translated by Google) The environment of the ...</td>\n",
       "    </tr>\n",
       "  </tbody>\n",
       "</table>\n",
       "</div>"
      ],
      "text/plain": [
       "  Nama_Pengguna     Rating Nama_Tempat Alamat        Tanggal  \\\n",
       "0            尹。   5 stars   竹子湖故鄉金針花農園   None   21 hours ago   \n",
       "1         ll kI   5 stars   竹子湖故鄉金針花農園   None   21 hours ago   \n",
       "2           張宜婷   5 stars   竹子湖故鄉金針花農園   None   9 months ago   \n",
       "3           陳品介   5 stars   竹子湖故鄉金針花農園   None   9 months ago   \n",
       "4     Alex Tsai   4 stars   竹子湖故鄉金針花農園   None  10 months ago   \n",
       "\n",
       "                                              Review  \n",
       "0                                                     \n",
       "1                                                     \n",
       "2  (Translated by Google) It’s pretty in Taipei, ...  \n",
       "3                                                     \n",
       "4  (Translated by Google) The environment of the ...  "
      ]
     },
     "execution_count": 59,
     "metadata": {},
     "output_type": "execute_result"
    }
   ],
   "source": [
    "import numpy as np\n",
    "df = pd.DataFrame(np.column_stack([username,rating,nama_gmaps,alamat_gmaps,rel_date,review_text]),\n",
    "                  columns=['Nama_Pengguna','Rating','Nama_Tempat','Alamat','Tanggal','Review'])\n",
    "df.head(5)"
   ]
  },
  {
   "cell_type": "code",
   "execution_count": 60,
   "id": "49fb2bd7",
   "metadata": {
    "scrolled": true
   },
   "outputs": [
    {
     "name": "stdout",
     "output_type": "stream",
     "text": [
      "<class 'pandas.core.frame.DataFrame'>\n",
      "RangeIndex: 5572 entries, 0 to 5571\n",
      "Data columns (total 6 columns):\n",
      " #   Column         Non-Null Count  Dtype \n",
      "---  ------         --------------  ----- \n",
      " 0   Nama_Pengguna  5572 non-null   object\n",
      " 1   Rating         5342 non-null   object\n",
      " 2   Nama_Tempat    5572 non-null   object\n",
      " 3   Alamat         0 non-null      object\n",
      " 4   Tanggal        5342 non-null   object\n",
      " 5   Review         5572 non-null   object\n",
      "dtypes: object(6)\n",
      "memory usage: 130.7+ KB\n"
     ]
    }
   ],
   "source": [
    "df.info()"
   ]
  },
  {
   "cell_type": "code",
   "execution_count": 61,
   "id": "72b42743",
   "metadata": {},
   "outputs": [
    {
     "data": {
      "text/plain": [
       "Waikato Museum Te Whare Taonga o Waikato                  380\n",
       "Esplanade - Theatres on the Bay, Singapore                340\n",
       "Queen Victoria Market                                     340\n",
       "MuseumsQuartier                                           230\n",
       "The English Market                                        230\n",
       "Abraj Al-Bait Towers                                      230\n",
       "Topkapi Palace Museum                                     230\n",
       "Han Market                                                230\n",
       "Carioca Aqueduct                                          230\n",
       "Chiang Mai National Museum                                230\n",
       "Musée d'Aquitaine                                         230\n",
       "Toyota Commemorative Museum of Industry and Technology    230\n",
       "Eureka! Zientzia Museoa                                   230\n",
       "Koutoubia                                                 230\n",
       "Geirangerfjord                                            230\n",
       "White Crater                                              230\n",
       "Umeda Sky Building, Osaka                                 230\n",
       "Nelson Lakes National Park                                220\n",
       "Hamilton Gardens                                          220\n",
       "Gallery of Modern Art                                     190\n",
       "Design Orchard                                            186\n",
       "Donegal Bay Waterbus                                      170\n",
       "Olango Island                                             111\n",
       "Samui Disc Golf                                            86\n",
       "竹子湖故鄉金針花農園                                                 73\n",
       "OliveAnkara                                                23\n",
       "Taipei 101, Taipei                                         10\n",
       "Palace of the Grand Master of the Knights of Rhodes         3\n",
       "Name: Nama_Tempat, dtype: int64"
      ]
     },
     "execution_count": 61,
     "metadata": {},
     "output_type": "execute_result"
    }
   ],
   "source": [
    "df.Nama_Tempat.value_counts()"
   ]
  },
  {
   "cell_type": "code",
   "execution_count": 62,
   "id": "22653e81",
   "metadata": {},
   "outputs": [],
   "source": [
    "# bool_series = df.duplicated()\n",
    "# bool_series"
   ]
  },
  {
   "cell_type": "code",
   "execution_count": 63,
   "id": "737b0db3",
   "metadata": {},
   "outputs": [],
   "source": [
    "# df = df[~bool_series]\n",
    "# df.Nama_Tempat.value_counts()"
   ]
  },
  {
   "cell_type": "code",
   "execution_count": 64,
   "id": "605219cd",
   "metadata": {},
   "outputs": [],
   "source": [
    "df.to_csv('dataset/Ratings_Tempat-600-650.csv')  "
   ]
  },
  {
   "cell_type": "code",
   "execution_count": 65,
   "id": "d49f973c",
   "metadata": {},
   "outputs": [
    {
     "data": {
      "text/html": [
       "<div>\n",
       "<style scoped>\n",
       "    .dataframe tbody tr th:only-of-type {\n",
       "        vertical-align: middle;\n",
       "    }\n",
       "\n",
       "    .dataframe tbody tr th {\n",
       "        vertical-align: top;\n",
       "    }\n",
       "\n",
       "    .dataframe thead th {\n",
       "        text-align: right;\n",
       "    }\n",
       "</style>\n",
       "<table border=\"1\" class=\"dataframe\">\n",
       "  <thead>\n",
       "    <tr style=\"text-align: right;\">\n",
       "      <th></th>\n",
       "      <th>Nama_Pengguna</th>\n",
       "      <th>Rating</th>\n",
       "      <th>Nama_Tempat</th>\n",
       "      <th>Alamat</th>\n",
       "      <th>Tanggal</th>\n",
       "      <th>Review</th>\n",
       "    </tr>\n",
       "  </thead>\n",
       "  <tbody>\n",
       "    <tr>\n",
       "      <th>5567</th>\n",
       "      <td>Rebecca Johnson</td>\n",
       "      <td>5 stars</td>\n",
       "      <td>Gallery of Modern Art</td>\n",
       "      <td>None</td>\n",
       "      <td>3 months ago</td>\n",
       "      <td></td>\n",
       "    </tr>\n",
       "    <tr>\n",
       "      <th>5568</th>\n",
       "      <td>Natasha Noy</td>\n",
       "      <td>5 stars</td>\n",
       "      <td>Gallery of Modern Art</td>\n",
       "      <td>None</td>\n",
       "      <td>3 months ago</td>\n",
       "      <td></td>\n",
       "    </tr>\n",
       "    <tr>\n",
       "      <th>5569</th>\n",
       "      <td>Angus C-T</td>\n",
       "      <td>5 stars</td>\n",
       "      <td>Gallery of Modern Art</td>\n",
       "      <td>None</td>\n",
       "      <td>3 months ago</td>\n",
       "      <td>Impressive display of weird Asian &amp; Pacific Art.</td>\n",
       "    </tr>\n",
       "    <tr>\n",
       "      <th>5570</th>\n",
       "      <td>Cansu Esmer</td>\n",
       "      <td>5 stars</td>\n",
       "      <td>Gallery of Modern Art</td>\n",
       "      <td>None</td>\n",
       "      <td>3 months ago</td>\n",
       "      <td></td>\n",
       "    </tr>\n",
       "    <tr>\n",
       "      <th>5571</th>\n",
       "      <td>Kate Dingle</td>\n",
       "      <td>4 stars</td>\n",
       "      <td>Gallery of Modern Art</td>\n",
       "      <td>None</td>\n",
       "      <td>4 months ago</td>\n",
       "      <td>Great art space, wonderful way to spend a morn...</td>\n",
       "    </tr>\n",
       "  </tbody>\n",
       "</table>\n",
       "</div>"
      ],
      "text/plain": [
       "        Nama_Pengguna     Rating            Nama_Tempat Alamat       Tanggal  \\\n",
       "5567  Rebecca Johnson   5 stars   Gallery of Modern Art   None  3 months ago   \n",
       "5568      Natasha Noy   5 stars   Gallery of Modern Art   None  3 months ago   \n",
       "5569        Angus C-T   5 stars   Gallery of Modern Art   None  3 months ago   \n",
       "5570      Cansu Esmer   5 stars   Gallery of Modern Art   None  3 months ago   \n",
       "5571      Kate Dingle   4 stars   Gallery of Modern Art   None  4 months ago   \n",
       "\n",
       "                                                 Review  \n",
       "5567                                                     \n",
       "5568                                                     \n",
       "5569   Impressive display of weird Asian & Pacific Art.  \n",
       "5570                                                     \n",
       "5571  Great art space, wonderful way to spend a morn...  "
      ]
     },
     "execution_count": 65,
     "metadata": {},
     "output_type": "execute_result"
    }
   ],
   "source": [
    "df.tail()"
   ]
  },
  {
   "cell_type": "code",
   "execution_count": 66,
   "id": "321516a5",
   "metadata": {},
   "outputs": [],
   "source": [
    "# cek\n",
    "# print(df.isnull().sum())"
   ]
  },
  {
   "cell_type": "code",
   "execution_count": 67,
   "id": "25978faa",
   "metadata": {},
   "outputs": [
    {
     "data": {
      "text/plain": [
       "Cynthia Wei            3\n",
       "Ana                    2\n",
       "Melissa Eisner         2\n",
       "Amauri Alves Junior    2\n",
       "77 sai10               2\n",
       "Nico                   2\n",
       "M M                    2\n",
       "J S                    2\n",
       "Imran Khan             2\n",
       "fuku aki               2\n",
       "Name: Nama_Pengguna, dtype: int64"
      ]
     },
     "execution_count": 67,
     "metadata": {},
     "output_type": "execute_result"
    }
   ],
   "source": [
    "mt = df.Nama_Pengguna.value_counts()\n",
    "mt.head(10)"
   ]
  },
  {
   "cell_type": "code",
   "execution_count": 72,
   "id": "e407c397",
   "metadata": {},
   "outputs": [
    {
     "data": {
      "text/html": [
       "<div>\n",
       "<style scoped>\n",
       "    .dataframe tbody tr th:only-of-type {\n",
       "        vertical-align: middle;\n",
       "    }\n",
       "\n",
       "    .dataframe tbody tr th {\n",
       "        vertical-align: top;\n",
       "    }\n",
       "\n",
       "    .dataframe thead th {\n",
       "        text-align: right;\n",
       "    }\n",
       "</style>\n",
       "<table border=\"1\" class=\"dataframe\">\n",
       "  <thead>\n",
       "    <tr style=\"text-align: right;\">\n",
       "      <th></th>\n",
       "      <th>Nama_Pengguna</th>\n",
       "      <th>Rating</th>\n",
       "      <th>Nama_Tempat</th>\n",
       "      <th>Alamat</th>\n",
       "      <th>Tanggal</th>\n",
       "      <th>Review</th>\n",
       "    </tr>\n",
       "  </thead>\n",
       "  <tbody>\n",
       "    <tr>\n",
       "      <th>1595</th>\n",
       "      <td>Nico</td>\n",
       "      <td>4 stars</td>\n",
       "      <td>Musée d'Aquitaine</td>\n",
       "      <td>None</td>\n",
       "      <td>a month ago</td>\n",
       "      <td></td>\n",
       "    </tr>\n",
       "    <tr>\n",
       "      <th>3656</th>\n",
       "      <td>Nico</td>\n",
       "      <td>5 stars</td>\n",
       "      <td>Esplanade - Theatres on the Bay, Singapore</td>\n",
       "      <td>None</td>\n",
       "      <td>a month ago</td>\n",
       "      <td>Nice place</td>\n",
       "    </tr>\n",
       "  </tbody>\n",
       "</table>\n",
       "</div>"
      ],
      "text/plain": [
       "     Nama_Pengguna     Rating                                 Nama_Tempat  \\\n",
       "1595          Nico   4 stars                            Musée d'Aquitaine   \n",
       "3656          Nico   5 stars   Esplanade - Theatres on the Bay, Singapore   \n",
       "\n",
       "     Alamat      Tanggal      Review  \n",
       "1595   None  a month ago              \n",
       "3656   None  a month ago  Nice place  "
      ]
     },
     "execution_count": 72,
     "metadata": {},
     "output_type": "execute_result"
    }
   ],
   "source": [
    "# dtes = df[df['Nama_Pengguna']=='Nico']\n",
    "# dtes"
   ]
  },
  {
   "cell_type": "code",
   "execution_count": 69,
   "id": "0c914a0a",
   "metadata": {},
   "outputs": [
    {
     "data": {
      "text/plain": [
       " 5 stars     3700\n",
       " 4 stars     1071\n",
       " 3 stars      349\n",
       " 1 star       131\n",
       " 2 stars       91\n",
       "Name: Rating, dtype: int64"
      ]
     },
     "execution_count": 69,
     "metadata": {},
     "output_type": "execute_result"
    }
   ],
   "source": [
    "df.Rating.value_counts()"
   ]
  },
  {
   "cell_type": "code",
   "execution_count": 70,
   "id": "abcb3933",
   "metadata": {},
   "outputs": [
    {
     "data": {
      "text/plain": [
       "28"
      ]
     },
     "execution_count": 70,
     "metadata": {},
     "output_type": "execute_result"
    }
   ],
   "source": [
    "dnm = df.Nama_Tempat.value_counts()\n",
    "len(dnm)"
   ]
  },
  {
   "cell_type": "code",
   "execution_count": null,
   "id": "c15f7249",
   "metadata": {},
   "outputs": [],
   "source": []
  },
  {
   "cell_type": "code",
   "execution_count": null,
   "id": "1298bb4c",
   "metadata": {},
   "outputs": [],
   "source": []
  }
 ],
 "metadata": {
  "kernelspec": {
   "display_name": "Python 3",
   "language": "python",
   "name": "python3"
  },
  "language_info": {
   "codemirror_mode": {
    "name": "ipython",
    "version": 3
   },
   "file_extension": ".py",
   "mimetype": "text/x-python",
   "name": "python",
   "nbconvert_exporter": "python",
   "pygments_lexer": "ipython3",
   "version": "3.8.8"
  }
 },
 "nbformat": 4,
 "nbformat_minor": 5
}
