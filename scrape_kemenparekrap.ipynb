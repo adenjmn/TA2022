{
 "cells": [
  {
   "cell_type": "code",
   "execution_count": 1,
   "id": "59f07049-16d1-471b-8ab6-1668638fe2a2",
   "metadata": {},
   "outputs": [],
   "source": [
    "# !pip install selenium==4.3.0"
   ]
  },
  {
   "cell_type": "code",
   "execution_count": 2,
   "id": "6ebfa78d",
   "metadata": {},
   "outputs": [],
   "source": [
    "from selenium import webdriver\n",
    "from selenium.webdriver.common.by import By\n",
    "from selenium.webdriver.support.ui import WebDriverWait\n",
    "from selenium.webdriver.support import expected_conditions as EC\n",
    "from selenium.common.exceptions import TimeoutException\n",
    "\n",
    "import pandas as pd\n",
    "import requests\n",
    "from selenium.webdriver.common.desired_capabilities import DesiredCapabilities\n",
    "from selenium.webdriver.common.action_chains import ActionChains\n",
    "from selenium.common.exceptions import NoSuchElementException\n",
    "import time\n",
    "\n",
    "from bs4 import BeautifulSoup"
   ]
  },
  {
   "cell_type": "code",
   "execution_count": 3,
   "id": "11e17c35",
   "metadata": {},
   "outputs": [],
   "source": [
    "from selenium.webdriver.chrome.service import Service\n",
    "\n",
    "service = Service('/home/ade/Documents/TA2022/chromedriver')\n",
    "\n",
    "service.start()\n",
    "\n",
    "driver = webdriver.Remote(service.service_url)"
   ]
  },
  {
   "cell_type": "code",
   "execution_count": 20,
   "id": "327ecd29",
   "metadata": {},
   "outputs": [],
   "source": [
    "url =\"https://chse.kemenparekraf.go.id/id/detail-provinsi/jawa-barat\"\n",
    "driver.get(url)\n",
    "\n",
    "response = BeautifulSoup(driver.page_source, 'html.parser')\n",
    "\n",
    "tempat = []\n",
    "jenis = []\n",
    "city = []\n",
    "img = []\n",
    "address = []\n",
    "\n",
    "rlist = response.find_all('div', class_='col-md-8')"
   ]
  },
  {
   "cell_type": "code",
   "execution_count": 21,
   "id": "fb6805d7",
   "metadata": {
    "scrolled": true
   },
   "outputs": [],
   "source": [
    "def scrape():\n",
    "    n_dest = driver.find_elements(By.XPATH,'//*[@id=\"list-certifications\"]/div/div/div/div/div/div/h3/a')\n",
    "    for element in n_dest:\n",
    "        tempat.append(element.text)\n",
    "    \n",
    "    n_type = driver.find_elements(By.XPATH,'//*[@id=\"list-certifications\"]/div/div/div/div/div/div/a/h2')\n",
    "    for element in n_type:\n",
    "        jenis.append(element.text)\n",
    "        \n",
    "    n_city = driver.find_elements(By.XPATH,'//*[@id=\"list-certifications\"]/div/div/div/div/ul')\n",
    "    for element in n_city:\n",
    "        city.append(element.text)\n",
    "    \n",
    "    n_address = driver.find_elements(By.XPATH,'//*[@id=\"list-certifications\"]/div/div/div/div/p')\n",
    "    for element in n_address:\n",
    "        address.append(element.text)\n",
    "        \n",
    "    n_img = driver.find_elements(By.CLASS_NAME,'card-img')\n",
    "    for thumbnail in n_img:\n",
    "        img.append(thumbnail.get_attribute(\"src\")) "
   ]
  },
  {
   "cell_type": "code",
   "execution_count": 22,
   "id": "04cc4398-f6e9-4eac-9421-a2afc65b240b",
   "metadata": {},
   "outputs": [],
   "source": [
    "scrape()"
   ]
  },
  {
   "cell_type": "code",
   "execution_count": 86,
   "id": "3f789a54-157d-4e24-86ce-1c63aad54289",
   "metadata": {},
   "outputs": [
    {
     "data": {
      "text/html": [
       "<div>\n",
       "<style scoped>\n",
       "    .dataframe tbody tr th:only-of-type {\n",
       "        vertical-align: middle;\n",
       "    }\n",
       "\n",
       "    .dataframe tbody tr th {\n",
       "        vertical-align: top;\n",
       "    }\n",
       "\n",
       "    .dataframe thead th {\n",
       "        text-align: right;\n",
       "    }\n",
       "</style>\n",
       "<table border=\"1\" class=\"dataframe\">\n",
       "  <thead>\n",
       "    <tr style=\"text-align: right;\">\n",
       "      <th></th>\n",
       "      <th>tempat</th>\n",
       "      <th>jenis</th>\n",
       "      <th>city</th>\n",
       "      <th>address</th>\n",
       "      <th>img</th>\n",
       "    </tr>\n",
       "  </thead>\n",
       "  <tbody>\n",
       "    <tr>\n",
       "      <th>317</th>\n",
       "      <td>Taman Wisata Alam Capolaga</td>\n",
       "      <td>Daya Tarik Wisata</td>\n",
       "      <td>JAWA BARAT KAB. SUBANG</td>\n",
       "      <td>Wisata Alam Capolaga, Jl. Raya Cicadas, Kampun...</td>\n",
       "      <td>https://chse.kemenparekraf.go.id/themes/chse-f...</td>\n",
       "    </tr>\n",
       "    <tr>\n",
       "      <th>318</th>\n",
       "      <td>Green Hill Park</td>\n",
       "      <td>Daya Tarik Wisata</td>\n",
       "      <td>JAWA BARAT KAB. BANDUNG</td>\n",
       "      <td>Jl. Raya Patengan KM. 41 Rancabali, Ciwidey - ...</td>\n",
       "      <td>https://chse.kemenparekraf.go.id/themes/chse-f...</td>\n",
       "    </tr>\n",
       "    <tr>\n",
       "      <th>319</th>\n",
       "      <td>Wana Wisata Gunung Puntang</td>\n",
       "      <td>Daya Tarik Wisata</td>\n",
       "      <td>JAWA BARAT KAB. BANDUNG</td>\n",
       "      <td>Jalan Raya Gunung Puntang Km 8</td>\n",
       "      <td>https://chse.kemenparekraf.go.id/themes/chse-f...</td>\n",
       "    </tr>\n",
       "    <tr>\n",
       "      <th>320</th>\n",
       "      <td>KBM Ekowisata Perum Perhutani Jawa Barat &amp; Ban...</td>\n",
       "      <td>Daya Tarik Wisata</td>\n",
       "      <td>JAWA BARAT KAB. BANDUNG</td>\n",
       "      <td>Jalan Raya Ciwidey - Patengan, Alamendah, Band...</td>\n",
       "      <td>https://chse.kemenparekraf.go.id/storage/app/u...</td>\n",
       "    </tr>\n",
       "    <tr>\n",
       "      <th>321</th>\n",
       "      <td>TAMAN BUNGA NUSANTARA</td>\n",
       "      <td>Daya Tarik Wisata</td>\n",
       "      <td>JAWA BARAT KAB. CIANJUR</td>\n",
       "      <td>JL. Mariwati km 7 Desa Kawungluwuk Kecamatan S...</td>\n",
       "      <td>https://chse.kemenparekraf.go.id/themes/chse-f...</td>\n",
       "    </tr>\n",
       "  </tbody>\n",
       "</table>\n",
       "</div>"
      ],
      "text/plain": [
       "                                                tempat              jenis  \\\n",
       "317                         Taman Wisata Alam Capolaga  Daya Tarik Wisata   \n",
       "318                                    Green Hill Park  Daya Tarik Wisata   \n",
       "319                         Wana Wisata Gunung Puntang  Daya Tarik Wisata   \n",
       "320  KBM Ekowisata Perum Perhutani Jawa Barat & Ban...  Daya Tarik Wisata   \n",
       "321                              TAMAN BUNGA NUSANTARA  Daya Tarik Wisata   \n",
       "\n",
       "                        city  \\\n",
       "317   JAWA BARAT KAB. SUBANG   \n",
       "318  JAWA BARAT KAB. BANDUNG   \n",
       "319  JAWA BARAT KAB. BANDUNG   \n",
       "320  JAWA BARAT KAB. BANDUNG   \n",
       "321  JAWA BARAT KAB. CIANJUR   \n",
       "\n",
       "                                               address  \\\n",
       "317  Wisata Alam Capolaga, Jl. Raya Cicadas, Kampun...   \n",
       "318  Jl. Raya Patengan KM. 41 Rancabali, Ciwidey - ...   \n",
       "319                     Jalan Raya Gunung Puntang Km 8   \n",
       "320  Jalan Raya Ciwidey - Patengan, Alamendah, Band...   \n",
       "321  JL. Mariwati km 7 Desa Kawungluwuk Kecamatan S...   \n",
       "\n",
       "                                                   img  \n",
       "317  https://chse.kemenparekraf.go.id/themes/chse-f...  \n",
       "318  https://chse.kemenparekraf.go.id/themes/chse-f...  \n",
       "319  https://chse.kemenparekraf.go.id/themes/chse-f...  \n",
       "320  https://chse.kemenparekraf.go.id/storage/app/u...  \n",
       "321  https://chse.kemenparekraf.go.id/themes/chse-f...  "
      ]
     },
     "execution_count": 86,
     "metadata": {},
     "output_type": "execute_result"
    }
   ],
   "source": [
    "import pandas as pd\n",
    "\n",
    "# Contoh list data\n",
    "data = [tempat,jenis,city,address,img]\n",
    "# Membuat DataFrame dari list\n",
    "df = pd.DataFrame({'tempat': tempat, 'jenis': jenis, 'city': city,'address':address,'img':img})\n",
    "\n",
    "# Menampilkan DataFrame\n",
    "df.tail()"
   ]
  },
  {
   "cell_type": "code",
   "execution_count": 8,
   "id": "89c81681",
   "metadata": {},
   "outputs": [
    {
     "ename": "NameError",
     "evalue": "name 'key' is not defined",
     "output_type": "error",
     "traceback": [
      "\u001b[0;31m---------------------------------------------------------------------------\u001b[0m",
      "\u001b[0;31mNameError\u001b[0m                                 Traceback (most recent call last)",
      "Cell \u001b[0;32mIn[8], line 2\u001b[0m\n\u001b[1;32m      1\u001b[0m \u001b[38;5;66;03m# key = n_key[2]\u001b[39;00m\n\u001b[0;32m----> 2\u001b[0m \u001b[38;5;28mprint\u001b[39m(\u001b[43mkey\u001b[49m)\n\u001b[1;32m      3\u001b[0m cari()\n\u001b[1;32m      4\u001b[0m \u001b[38;5;66;03m# if popup close popup\u001b[39;00m\n",
      "\u001b[0;31mNameError\u001b[0m: name 'key' is not defined"
     ]
    }
   ],
   "source": [
    "# key = n_key[2]\n",
    "print(key)\n",
    "cari()\n",
    "# if popup close popup"
   ]
  },
  {
   "cell_type": "code",
   "execution_count": null,
   "id": "4c4f20ba",
   "metadata": {
    "scrolled": true
   },
   "outputs": [],
   "source": [
    "scrape()"
   ]
  },
  {
   "cell_type": "code",
   "execution_count": null,
   "id": "2c06f328",
   "metadata": {},
   "outputs": [],
   "source": [
    "# i +=1\n",
    "# key = n_key[i]\n",
    "# print(key)"
   ]
  },
  {
   "cell_type": "code",
   "execution_count": null,
   "id": "a33327cc",
   "metadata": {
    "scrolled": true
   },
   "outputs": [],
   "source": [
    "i=461\n",
    "n = n_key[i:]\n",
    "n"
   ]
  },
  {
   "cell_type": "code",
   "execution_count": null,
   "id": "6b646bcc",
   "metadata": {
    "scrolled": true
   },
   "outputs": [],
   "source": [
    "for i in n:\n",
    "    key = i\n",
    "    print(key)\n",
    "    cari()\n",
    "#     # if popup close popup\n",
    "    scrape()"
   ]
  },
  {
   "cell_type": "code",
   "execution_count": 84,
   "id": "66aa8d8d-6fea-4448-a905-561f4e093c9f",
   "metadata": {},
   "outputs": [
    {
     "name": "stdout",
     "output_type": "stream",
     "text": [
      "316\n"
     ]
    }
   ],
   "source": [
    "scrape()\n",
    "print(len(tempat))"
   ]
  },
  {
   "cell_type": "code",
   "execution_count": 85,
   "id": "09280515",
   "metadata": {},
   "outputs": [
    {
     "name": "stdout",
     "output_type": "stream",
     "text": [
      "322\n"
     ]
    }
   ],
   "source": [
    "scrape()\n",
    "print(len(tempat))"
   ]
  },
  {
   "cell_type": "code",
   "execution_count": 30,
   "id": "4e509293",
   "metadata": {},
   "outputs": [
    {
     "data": {
      "text/html": [
       "<div>\n",
       "<style scoped>\n",
       "    .dataframe tbody tr th:only-of-type {\n",
       "        vertical-align: middle;\n",
       "    }\n",
       "\n",
       "    .dataframe tbody tr th {\n",
       "        vertical-align: top;\n",
       "    }\n",
       "\n",
       "    .dataframe thead th {\n",
       "        text-align: right;\n",
       "    }\n",
       "</style>\n",
       "<table border=\"1\" class=\"dataframe\">\n",
       "  <thead>\n",
       "    <tr style=\"text-align: right;\">\n",
       "      <th></th>\n",
       "      <th>tempat</th>\n",
       "      <th>jenis</th>\n",
       "      <th>city</th>\n",
       "      <th>address</th>\n",
       "      <th>img</th>\n",
       "    </tr>\n",
       "  </thead>\n",
       "  <tbody>\n",
       "    <tr>\n",
       "      <th>19</th>\n",
       "      <td>Akshaya Hotel Karawang</td>\n",
       "      <td>Hotel</td>\n",
       "      <td>JAWA BARAT KAB. KARAWANG</td>\n",
       "      <td>JL.K.H. MUSLIH NO. 28A. RT.03, RW.01,DUSUN SUK...</td>\n",
       "      <td>https://chse.kemenparekraf.go.id/storage/app/u...</td>\n",
       "    </tr>\n",
       "    <tr>\n",
       "      <th>20</th>\n",
       "      <td>HOTEL CIPAKU GARDEN</td>\n",
       "      <td>Hotel</td>\n",
       "      <td>JAWA BARAT KOTA BANDUNG</td>\n",
       "      <td>Jalan Cipaku Indah X No.2, Ledeng, Kota Bandun...</td>\n",
       "      <td>https://chse.kemenparekraf.go.id/storage/app/u...</td>\n",
       "    </tr>\n",
       "    <tr>\n",
       "      <th>21</th>\n",
       "      <td>Balong Girang Cigugur</td>\n",
       "      <td>Daya Tarik Wisata</td>\n",
       "      <td>JAWA BARAT KAB. KUNINGAN</td>\n",
       "      <td>2FJ4+QJ Cigugur, Kabupaten Kuningan, Jawa Bara...</td>\n",
       "      <td>https://chse.kemenparekraf.go.id/storage/app/u...</td>\n",
       "    </tr>\n",
       "    <tr>\n",
       "      <th>22</th>\n",
       "      <td>The Jungle Waterpark Bogor</td>\n",
       "      <td>Daya Tarik Wisata</td>\n",
       "      <td>JAWA BARAT KOTA BOGOR</td>\n",
       "      <td>Jalan Bogor Nirwana Boulevard, Perumahan Bogor...</td>\n",
       "      <td>https://chse.kemenparekraf.go.id/storage/app/u...</td>\n",
       "    </tr>\n",
       "    <tr>\n",
       "      <th>23</th>\n",
       "      <td>Roemah Keboen Tjiater</td>\n",
       "      <td>Homestay / Pondok Wisata</td>\n",
       "      <td>JAWA BARAT KAB. SUBANG</td>\n",
       "      <td>Roemah Keboen Tjiater, Kp. Cijolang No. 80 RT ...</td>\n",
       "      <td>https://chse.kemenparekraf.go.id/storage/app/u...</td>\n",
       "    </tr>\n",
       "  </tbody>\n",
       "</table>\n",
       "</div>"
      ],
      "text/plain": [
       "                        tempat                     jenis  \\\n",
       "19      Akshaya Hotel Karawang                     Hotel   \n",
       "20         HOTEL CIPAKU GARDEN                     Hotel   \n",
       "21       Balong Girang Cigugur         Daya Tarik Wisata   \n",
       "22  The Jungle Waterpark Bogor         Daya Tarik Wisata   \n",
       "23       Roemah Keboen Tjiater  Homestay / Pondok Wisata   \n",
       "\n",
       "                        city  \\\n",
       "19  JAWA BARAT KAB. KARAWANG   \n",
       "20   JAWA BARAT KOTA BANDUNG   \n",
       "21  JAWA BARAT KAB. KUNINGAN   \n",
       "22     JAWA BARAT KOTA BOGOR   \n",
       "23    JAWA BARAT KAB. SUBANG   \n",
       "\n",
       "                                              address  \\\n",
       "19  JL.K.H. MUSLIH NO. 28A. RT.03, RW.01,DUSUN SUK...   \n",
       "20  Jalan Cipaku Indah X No.2, Ledeng, Kota Bandun...   \n",
       "21  2FJ4+QJ Cigugur, Kabupaten Kuningan, Jawa Bara...   \n",
       "22  Jalan Bogor Nirwana Boulevard, Perumahan Bogor...   \n",
       "23  Roemah Keboen Tjiater, Kp. Cijolang No. 80 RT ...   \n",
       "\n",
       "                                                  img  \n",
       "19  https://chse.kemenparekraf.go.id/storage/app/u...  \n",
       "20  https://chse.kemenparekraf.go.id/storage/app/u...  \n",
       "21  https://chse.kemenparekraf.go.id/storage/app/u...  \n",
       "22  https://chse.kemenparekraf.go.id/storage/app/u...  \n",
       "23  https://chse.kemenparekraf.go.id/storage/app/u...  "
      ]
     },
     "execution_count": 30,
     "metadata": {},
     "output_type": "execute_result"
    }
   ],
   "source": [
    "df.tail()"
   ]
  },
  {
   "cell_type": "code",
   "execution_count": 87,
   "id": "96c6a294-f582-44b8-bd8f-0a42763a3aa1",
   "metadata": {},
   "outputs": [
    {
     "name": "stdout",
     "output_type": "stream",
     "text": [
      "<class 'pandas.core.frame.DataFrame'>\n",
      "RangeIndex: 322 entries, 0 to 321\n",
      "Data columns (total 5 columns):\n",
      " #   Column   Non-Null Count  Dtype \n",
      "---  ------   --------------  ----- \n",
      " 0   tempat   322 non-null    object\n",
      " 1   jenis    322 non-null    object\n",
      " 2   city     322 non-null    object\n",
      " 3   address  322 non-null    object\n",
      " 4   img      322 non-null    object\n",
      "dtypes: object(5)\n",
      "memory usage: 12.7+ KB\n"
     ]
    }
   ],
   "source": [
    "df.info()"
   ]
  },
  {
   "cell_type": "markdown",
   "id": "77e14de4-596f-4f82-a589-b98bdd6ef2c5",
   "metadata": {},
   "source": [
    " ## Ulangi Lagi Scrapenya"
   ]
  },
  {
   "cell_type": "code",
   "execution_count": 90,
   "id": "84ea2ffb-234d-4a1b-91be-31ae1efbc9da",
   "metadata": {},
   "outputs": [],
   "source": [
    "cleaned_df = df.drop_duplicates(subset=['tempat'])"
   ]
  },
  {
   "cell_type": "code",
   "execution_count": 92,
   "id": "51dc3a08-56a5-41d7-99ac-c35baf33a2c4",
   "metadata": {},
   "outputs": [
    {
     "name": "stdout",
     "output_type": "stream",
     "text": [
      "<class 'pandas.core.frame.DataFrame'>\n",
      "Index: 281 entries, 0 to 321\n",
      "Data columns (total 5 columns):\n",
      " #   Column   Non-Null Count  Dtype \n",
      "---  ------   --------------  ----- \n",
      " 0   tempat   281 non-null    object\n",
      " 1   jenis    281 non-null    object\n",
      " 2   city     281 non-null    object\n",
      " 3   address  281 non-null    object\n",
      " 4   img      281 non-null    object\n",
      "dtypes: object(5)\n",
      "memory usage: 13.2+ KB\n"
     ]
    }
   ],
   "source": [
    "cleaned_df.info()"
   ]
  },
  {
   "cell_type": "code",
   "execution_count": 101,
   "id": "4a421647-378c-41f8-8d1e-f9e6fdbd66ca",
   "metadata": {},
   "outputs": [],
   "source": [
    "json_data = df.to_json(orient='records')\n",
    "with open('data.json', 'w') as json_file:\n",
    "    json_file.write(json_data)"
   ]
  },
  {
   "cell_type": "code",
   "execution_count": null,
   "id": "725092c8-44b5-4294-bbde-c0d1c8555971",
   "metadata": {},
   "outputs": [],
   "source": []
  },
  {
   "cell_type": "code",
   "execution_count": null,
   "id": "fc107cd3-4dba-4352-b18e-f85a63a7113d",
   "metadata": {},
   "outputs": [],
   "source": []
  }
 ],
 "metadata": {
  "kernelspec": {
   "display_name": "Python 3 (ipykernel)",
   "language": "python",
   "name": "python3"
  },
  "language_info": {
   "codemirror_mode": {
    "name": "ipython",
    "version": 3
   },
   "file_extension": ".py",
   "mimetype": "text/x-python",
   "name": "python",
   "nbconvert_exporter": "python",
   "pygments_lexer": "ipython3",
   "version": "3.8.10"
  }
 },
 "nbformat": 4,
 "nbformat_minor": 5
}
