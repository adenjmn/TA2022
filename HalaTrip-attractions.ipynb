{
 "cells": [
  {
   "cell_type": "code",
   "execution_count": 1,
   "id": "d10b4e4d",
   "metadata": {},
   "outputs": [],
   "source": [
    "# !pip install selenium"
   ]
  },
  {
   "cell_type": "code",
   "execution_count": 1,
   "id": "d5d54851",
   "metadata": {},
   "outputs": [],
   "source": [
    "from selenium import webdriver\n",
    "from selenium.webdriver.common.by import By\n",
    "from selenium.webdriver.support.ui import WebDriverWait\n",
    "from selenium.webdriver.support import expected_conditions as EC\n",
    "from selenium.common.exceptions import TimeoutException\n",
    "\n",
    "import pandas as pd\n",
    "import requests\n",
    "from selenium.webdriver.common.desired_capabilities import DesiredCapabilities\n",
    "from selenium.webdriver.common.action_chains import ActionChains\n",
    "from selenium.common.exceptions import NoSuchElementException\n",
    "import time\n",
    "\n",
    "from bs4 import BeautifulSoup"
   ]
  },
  {
   "cell_type": "code",
   "execution_count": 2,
   "id": "163257bd",
   "metadata": {},
   "outputs": [
    {
     "name": "stderr",
     "output_type": "stream",
     "text": [
      "<ipython-input-2-51ce689feaf0>:1: DeprecationWarning: executable_path has been deprecated, please pass in a Service object\n",
      "  driver = webdriver.Chrome(executable_path = \"chromedriver.exe\")\n"
     ]
    }
   ],
   "source": [
    "driver = webdriver.Chrome(executable_path = \"chromedriver.exe\")\n",
    "# disable location manual in driver"
   ]
  },
  {
   "cell_type": "code",
   "execution_count": 100,
   "id": "da3bde9e",
   "metadata": {
    "scrolled": true
   },
   "outputs": [],
   "source": [
    "url =\"https://www.halaltrip.com/attractions-near-me/\"\n",
    "driver.get(url)\n",
    "\n",
    "response = BeautifulSoup(driver.page_source, 'html.parser')\n",
    "\n",
    "name = []\n",
    "location = []\n",
    "address = []\n",
    "\n",
    "rlist = response.find_all('div', class_='hotel_short_description')"
   ]
  },
  {
   "cell_type": "code",
   "execution_count": 101,
   "id": "3b2e4f2f",
   "metadata": {},
   "outputs": [],
   "source": [
    "def scrape():\n",
    "#     global response\n",
    "    global rlist\n",
    "    response = BeautifulSoup(driver.page_source, 'html.parser')\n",
    "    rlist = response.find_all('div', class_='restaurent_box')\n",
    "\n",
    "def get_data():\n",
    "    for r in rlist:\n",
    "        name.append(r.find('div',class_='rest_detail').find('h3').text)\n",
    "        try:\n",
    "            location.append(r.find('div',class_='img_box ltGreyBg').find('span').text) \n",
    "        except Exception:\n",
    "            location.append(None)\n",
    "        try:\n",
    "            address.append(r.find('div',class_='rest_detail').find('p').text)\n",
    "        except Exception:\n",
    "            address.append(None)"
   ]
  },
  {
   "cell_type": "code",
   "execution_count": 102,
   "id": "0b6dded1",
   "metadata": {},
   "outputs": [
    {
     "data": {
      "text/plain": [
       "16"
      ]
     },
     "execution_count": 102,
     "metadata": {},
     "output_type": "execute_result"
    }
   ],
   "source": [
    "scrape()\n",
    "get_data()\n",
    "\n",
    "len(name)"
   ]
  },
  {
   "cell_type": "markdown",
   "id": "fc98fd5d",
   "metadata": {},
   "source": [
    "# next page - looping"
   ]
  },
  {
   "cell_type": "code",
   "execution_count": 103,
   "id": "c05a12eb",
   "metadata": {
    "scrolled": true
   },
   "outputs": [
    {
     "data": {
      "text/plain": [
       "32"
      ]
     },
     "execution_count": 103,
     "metadata": {},
     "output_type": "execute_result"
    }
   ],
   "source": [
    "scrape()\n",
    "get_data()\n",
    "\n",
    "len(name)"
   ]
  },
  {
   "cell_type": "code",
   "execution_count": 94,
   "id": "1e9d20df",
   "metadata": {},
   "outputs": [
    {
     "data": {
      "text/html": [
       "<div>\n",
       "<style scoped>\n",
       "    .dataframe tbody tr th:only-of-type {\n",
       "        vertical-align: middle;\n",
       "    }\n",
       "\n",
       "    .dataframe tbody tr th {\n",
       "        vertical-align: top;\n",
       "    }\n",
       "\n",
       "    .dataframe thead th {\n",
       "        text-align: right;\n",
       "    }\n",
       "</style>\n",
       "<table border=\"1\" class=\"dataframe\">\n",
       "  <thead>\n",
       "    <tr style=\"text-align: right;\">\n",
       "      <th></th>\n",
       "      <th>Nama</th>\n",
       "      <th>Lokasi</th>\n",
       "      <th>Alamat</th>\n",
       "    </tr>\n",
       "  </thead>\n",
       "  <tbody>\n",
       "    <tr>\n",
       "      <th>0</th>\n",
       "      <td>Sydney Tower</td>\n",
       "      <td>Sydney</td>\n",
       "      <td>100 Market St, Sydney NSW 2000, Australia</td>\n",
       "    </tr>\n",
       "    <tr>\n",
       "      <th>1</th>\n",
       "      <td>Fort of Jaffna</td>\n",
       "      <td>Jaffna</td>\n",
       "      <td>AB21, Jaffna, Sri Lanka</td>\n",
       "    </tr>\n",
       "    <tr>\n",
       "      <th>2</th>\n",
       "      <td>Musée de la Castre</td>\n",
       "      <td>Cannes</td>\n",
       "      <td>Le Suquet, Rue de la Castre, 06400 Cannes, France</td>\n",
       "    </tr>\n",
       "    <tr>\n",
       "      <th>3</th>\n",
       "      <td>Brooklyn Botanic Garden</td>\n",
       "      <td>Brooklyn</td>\n",
       "      <td>150 Eastern Parkway, 990 Washington Avenue, Br...</td>\n",
       "    </tr>\n",
       "    <tr>\n",
       "      <th>4</th>\n",
       "      <td>Tasik Lengkong</td>\n",
       "      <td>Ciamis</td>\n",
       "      <td>Jalan Pesanggrahan Ciamis West Java 46264 Indo...</td>\n",
       "    </tr>\n",
       "  </tbody>\n",
       "</table>\n",
       "</div>"
      ],
      "text/plain": [
       "                      Nama    Lokasi  \\\n",
       "0            Sydney Tower     Sydney   \n",
       "1           Fort of Jaffna    Jaffna   \n",
       "2       Musée de la Castre    Cannes   \n",
       "3  Brooklyn Botanic Garden  Brooklyn   \n",
       "4           Tasik Lengkong    Ciamis   \n",
       "\n",
       "                                              Alamat  \n",
       "0          100 Market St, Sydney NSW 2000, Australia  \n",
       "1                            AB21, Jaffna, Sri Lanka  \n",
       "2  Le Suquet, Rue de la Castre, 06400 Cannes, France  \n",
       "3  150 Eastern Parkway, 990 Washington Avenue, Br...  \n",
       "4  Jalan Pesanggrahan Ciamis West Java 46264 Indo...  "
      ]
     },
     "execution_count": 94,
     "metadata": {},
     "output_type": "execute_result"
    }
   ],
   "source": [
    "import numpy as np\n",
    "df = pd.DataFrame(np.column_stack([name, location, address]), \n",
    "                               columns=['Nama', 'Lokasi', 'Alamat'])\n",
    "df.head()"
   ]
  },
  {
   "cell_type": "code",
   "execution_count": 95,
   "id": "5a916089",
   "metadata": {},
   "outputs": [
    {
     "data": {
      "text/html": [
       "<div>\n",
       "<style scoped>\n",
       "    .dataframe tbody tr th:only-of-type {\n",
       "        vertical-align: middle;\n",
       "    }\n",
       "\n",
       "    .dataframe tbody tr th {\n",
       "        vertical-align: top;\n",
       "    }\n",
       "\n",
       "    .dataframe thead th {\n",
       "        text-align: right;\n",
       "    }\n",
       "</style>\n",
       "<table border=\"1\" class=\"dataframe\">\n",
       "  <thead>\n",
       "    <tr style=\"text-align: right;\">\n",
       "      <th></th>\n",
       "      <th>Nama</th>\n",
       "      <th>Lokasi</th>\n",
       "      <th>Alamat</th>\n",
       "    </tr>\n",
       "  </thead>\n",
       "  <tbody>\n",
       "    <tr>\n",
       "      <th>43</th>\n",
       "      <td>Musée Saint-Raymond</td>\n",
       "      <td>Toulouse</td>\n",
       "      <td>1 Ter place Saint-Sernin 31000 Toulouse, France</td>\n",
       "    </tr>\n",
       "    <tr>\n",
       "      <th>44</th>\n",
       "      <td>Riyadh Zoo</td>\n",
       "      <td>Riyadh</td>\n",
       "      <td>Al Ihsa Street, Al Malaz, Riyadh P.O. Box: 270...</td>\n",
       "    </tr>\n",
       "    <tr>\n",
       "      <th>45</th>\n",
       "      <td>SeaWorld San Diego</td>\n",
       "      <td>San Diego</td>\n",
       "      <td>500 Sea World Dr, San Diego, CA 92109, United ...</td>\n",
       "    </tr>\n",
       "    <tr>\n",
       "      <th>46</th>\n",
       "      <td>Peshwa Udyan</td>\n",
       "      <td>Pune</td>\n",
       "      <td>Peshwa Udyan, Pune, Maharashtra, 411009, India...</td>\n",
       "    </tr>\n",
       "    <tr>\n",
       "      <th>47</th>\n",
       "      <td>Salzburg Toy Museum</td>\n",
       "      <td>Salzburg</td>\n",
       "      <td>\\nBürgerspitalgasse 2, 5020 Salzburg, Austria\\...</td>\n",
       "    </tr>\n",
       "  </tbody>\n",
       "</table>\n",
       "</div>"
      ],
      "text/plain": [
       "                   Nama     Lokasi  \\\n",
       "43  Musée Saint-Raymond   Toulouse   \n",
       "44           Riyadh Zoo     Riyadh   \n",
       "45   SeaWorld San Diego  San Diego   \n",
       "46         Peshwa Udyan       Pune   \n",
       "47  Salzburg Toy Museum   Salzburg   \n",
       "\n",
       "                                               Alamat  \n",
       "43    1 Ter place Saint-Sernin 31000 Toulouse, France  \n",
       "44  Al Ihsa Street, Al Malaz, Riyadh P.O. Box: 270...  \n",
       "45  500 Sea World Dr, San Diego, CA 92109, United ...  \n",
       "46  Peshwa Udyan, Pune, Maharashtra, 411009, India...  \n",
       "47  \\nBürgerspitalgasse 2, 5020 Salzburg, Austria\\...  "
      ]
     },
     "execution_count": 95,
     "metadata": {},
     "output_type": "execute_result"
    }
   ],
   "source": [
    "df.tail()"
   ]
  },
  {
   "cell_type": "code",
   "execution_count": 96,
   "id": "4502a8fc",
   "metadata": {},
   "outputs": [
    {
     "data": {
      "text/plain": [
       "New Market                         2\n",
       "Sydney Tower                       1\n",
       "Oriental Pearl TV Tower            1\n",
       "Sydney Opera House                 1\n",
       "King John's Castle                 1\n",
       "Villa Floridiana                   1\n",
       "Fethiye Amphitheatre               1\n",
       "Silver Cave                        1\n",
       "Zini Baomo Garden                  1\n",
       "Livadia Beach                      1\n",
       "Session Road                       1\n",
       "Auckland Civic Theatre             1\n",
       "KLCC                               1\n",
       "Apollo Temple                      1\n",
       "Penang Islamic Museum              1\n",
       "Nagoya City Art Museum             1\n",
       "Han Market                         1\n",
       "Royal Armouries Museum             1\n",
       "Nottingham City Centre             1\n",
       "Musée Saint-Raymond                1\n",
       "Riyadh Zoo                         1\n",
       "SeaWorld San Diego                 1\n",
       "Peshwa Udyan                       1\n",
       "Castelo de São Jorge               1\n",
       "Bute Park & Arboretum              1\n",
       "Fort of Jaffna                     1\n",
       "Damdama Lake                       1\n",
       "Musée de la Castre                 1\n",
       "Brooklyn Botanic Garden            1\n",
       "Tasik Lengkong                     1\n",
       "Sri Mariamman Temple               1\n",
       "BMW Welt and Museum                1\n",
       "Dublin Zoo                         1\n",
       "Ulus and Republican Ankara         1\n",
       "Ben Thanh Market                   1\n",
       "Moon Hill                          1\n",
       "Ngong Ping 360 degrees cable...    1\n",
       "Hospital Cave                      1\n",
       "Stari Most, Mostar, Bosnia         1\n",
       "Medina Media Museum                1\n",
       "Olango Island                      1\n",
       "Othaim Mall Buraydah               1\n",
       "Luna Park                          1\n",
       "Mercado de la Ribera               1\n",
       "Malay Heritage Centre              1\n",
       "Rumah Mode                         1\n",
       "Salzburg Toy Museum                1\n",
       "Name: Nama, dtype: int64"
      ]
     },
     "execution_count": 96,
     "metadata": {},
     "output_type": "execute_result"
    }
   ],
   "source": [
    "df.Nama.value_counts()"
   ]
  },
  {
   "cell_type": "code",
   "execution_count": 23,
   "id": "519b6edf",
   "metadata": {},
   "outputs": [
    {
     "data": {
      "text/plain": [
       "32"
      ]
     },
     "execution_count": 23,
     "metadata": {},
     "output_type": "execute_result"
    }
   ],
   "source": [
    "len(df.Lokasi)\n",
    "# return dataframe"
   ]
  },
  {
   "cell_type": "code",
   "execution_count": null,
   "id": "9bfc32c3",
   "metadata": {},
   "outputs": [],
   "source": []
  },
  {
   "cell_type": "code",
   "execution_count": 25,
   "id": "d6935305",
   "metadata": {},
   "outputs": [
    {
     "data": {
      "text/html": [
       "<div>\n",
       "<style scoped>\n",
       "    .dataframe tbody tr th:only-of-type {\n",
       "        vertical-align: middle;\n",
       "    }\n",
       "\n",
       "    .dataframe tbody tr th {\n",
       "        vertical-align: top;\n",
       "    }\n",
       "\n",
       "    .dataframe thead th {\n",
       "        text-align: right;\n",
       "    }\n",
       "</style>\n",
       "<table border=\"1\" class=\"dataframe\">\n",
       "  <thead>\n",
       "    <tr style=\"text-align: right;\">\n",
       "      <th></th>\n",
       "      <th>Nama</th>\n",
       "      <th>Lokasi</th>\n",
       "      <th>Alamat</th>\n",
       "    </tr>\n",
       "  </thead>\n",
       "  <tbody>\n",
       "    <tr>\n",
       "      <th>0</th>\n",
       "      <td>Jabal Al Nour</td>\n",
       "      <td>Makkah</td>\n",
       "      <td>Jabal al Nur, Makkah 23238, Saudi Arabia</td>\n",
       "    </tr>\n",
       "    <tr>\n",
       "      <th>1</th>\n",
       "      <td>Salzburg Old Town</td>\n",
       "      <td>Salzburg</td>\n",
       "      <td>5020 Salzburg, Austria</td>\n",
       "    </tr>\n",
       "    <tr>\n",
       "      <th>2</th>\n",
       "      <td>Mosque of the Janissaries</td>\n",
       "      <td>Chania</td>\n",
       "      <td>Mosque of the Janissaries, Chania, Greece</td>\n",
       "    </tr>\n",
       "    <tr>\n",
       "      <th>3</th>\n",
       "      <td>Fukuoka Zoo</td>\n",
       "      <td>Fukuoka</td>\n",
       "      <td>1-1 Minami-koen, Chuo-ku, Fukuoka City, Japan.</td>\n",
       "    </tr>\n",
       "    <tr>\n",
       "      <th>4</th>\n",
       "      <td>Bilbao Fine Arts Museum</td>\n",
       "      <td>Bilbao</td>\n",
       "      <td>\\nMuseo Plaza, 2. 48009 Bilbao, Spain\\n</td>\n",
       "    </tr>\n",
       "  </tbody>\n",
       "</table>\n",
       "</div>"
      ],
      "text/plain": [
       "                        Nama    Lokasi  \\\n",
       "0              Jabal Al Nour    Makkah   \n",
       "1          Salzburg Old Town  Salzburg   \n",
       "2  Mosque of the Janissaries    Chania   \n",
       "3                Fukuoka Zoo   Fukuoka   \n",
       "4    Bilbao Fine Arts Museum    Bilbao   \n",
       "\n",
       "                                           Alamat  \n",
       "0       Jabal al Nur, Makkah 23238, Saudi Arabia   \n",
       "1                          5020 Salzburg, Austria  \n",
       "2       Mosque of the Janissaries, Chania, Greece  \n",
       "3  1-1 Minami-koen, Chuo-ku, Fukuoka City, Japan.  \n",
       "4         \\nMuseo Plaza, 2. 48009 Bilbao, Spain\\n  "
      ]
     },
     "execution_count": 25,
     "metadata": {},
     "output_type": "execute_result"
    }
   ],
   "source": [
    "import numpy as np\n",
    "df = pd.DataFrame(np.column_stack([name, location, address]), \n",
    "                               columns=['Nama', 'Lokasi', 'Alamat'])\n",
    "df.head()"
   ]
  },
  {
   "cell_type": "code",
   "execution_count": 26,
   "id": "c6faa61a",
   "metadata": {},
   "outputs": [
    {
     "data": {
      "text/html": [
       "<div>\n",
       "<style scoped>\n",
       "    .dataframe tbody tr th:only-of-type {\n",
       "        vertical-align: middle;\n",
       "    }\n",
       "\n",
       "    .dataframe tbody tr th {\n",
       "        vertical-align: top;\n",
       "    }\n",
       "\n",
       "    .dataframe thead th {\n",
       "        text-align: right;\n",
       "    }\n",
       "</style>\n",
       "<table border=\"1\" class=\"dataframe\">\n",
       "  <thead>\n",
       "    <tr style=\"text-align: right;\">\n",
       "      <th></th>\n",
       "      <th>Nama</th>\n",
       "      <th>Lokasi</th>\n",
       "      <th>Alamat</th>\n",
       "    </tr>\n",
       "  </thead>\n",
       "  <tbody>\n",
       "    <tr>\n",
       "      <th>27</th>\n",
       "      <td>Dar Batha Museum</td>\n",
       "      <td>Agdz</td>\n",
       "      <td>Place du Batha, Fes, Morocco</td>\n",
       "    </tr>\n",
       "    <tr>\n",
       "      <th>28</th>\n",
       "      <td>Haad Rin Nai</td>\n",
       "      <td>Haad Rin</td>\n",
       "      <td>Haad Rin Nai, Ko Phangan, Thailand</td>\n",
       "    </tr>\n",
       "    <tr>\n",
       "      <th>29</th>\n",
       "      <td>Otago Museum</td>\n",
       "      <td>Dunedin</td>\n",
       "      <td>419 Great King Street | P.O. Box 6202, Dunedi...</td>\n",
       "    </tr>\n",
       "    <tr>\n",
       "      <th>30</th>\n",
       "      <td>Bristol's Harbourside</td>\n",
       "      <td>Bristol</td>\n",
       "      <td>Bristol Habour, Bristol, United Kingdom</td>\n",
       "    </tr>\n",
       "    <tr>\n",
       "      <th>31</th>\n",
       "      <td>San Diego Zoo</td>\n",
       "      <td>San Diego</td>\n",
       "      <td>2920 Zoo Dr, San Diego, California 92101, Unit...</td>\n",
       "    </tr>\n",
       "  </tbody>\n",
       "</table>\n",
       "</div>"
      ],
      "text/plain": [
       "                     Nama     Lokasi  \\\n",
       "27       Dar Batha Museum       Agdz   \n",
       "28           Haad Rin Nai   Haad Rin   \n",
       "29           Otago Museum    Dunedin   \n",
       "30  Bristol's Harbourside    Bristol   \n",
       "31          San Diego Zoo  San Diego   \n",
       "\n",
       "                                               Alamat  \n",
       "27                       Place du Batha, Fes, Morocco  \n",
       "28                 Haad Rin Nai, Ko Phangan, Thailand  \n",
       "29   419 Great King Street | P.O. Box 6202, Dunedi...  \n",
       "30            Bristol Habour, Bristol, United Kingdom  \n",
       "31  2920 Zoo Dr, San Diego, California 92101, Unit...  "
      ]
     },
     "execution_count": 26,
     "metadata": {},
     "output_type": "execute_result"
    }
   ],
   "source": [
    "df.tail()"
   ]
  },
  {
   "cell_type": "code",
   "execution_count": null,
   "id": "d560dfe4",
   "metadata": {},
   "outputs": [],
   "source": []
  },
  {
   "cell_type": "code",
   "execution_count": null,
   "id": "0d7aadcc",
   "metadata": {},
   "outputs": [],
   "source": []
  },
  {
   "cell_type": "code",
   "execution_count": null,
   "id": "695ea927",
   "metadata": {},
   "outputs": [],
   "source": []
  },
  {
   "cell_type": "code",
   "execution_count": null,
   "id": "bd420016",
   "metadata": {},
   "outputs": [],
   "source": [
    "df.to_csv('halaltrip_dataset.csv')"
   ]
  },
  {
   "cell_type": "code",
   "execution_count": null,
   "id": "7c628310",
   "metadata": {},
   "outputs": [],
   "source": [
    "data = pd.read_csv('halaltrip_dataset.csv')\n",
    "data.head()"
   ]
  },
  {
   "cell_type": "code",
   "execution_count": null,
   "id": "050a77e1",
   "metadata": {},
   "outputs": [],
   "source": [
    "data.info()"
   ]
  },
  {
   "cell_type": "code",
   "execution_count": null,
   "id": "02e7e1a7",
   "metadata": {},
   "outputs": [],
   "source": [
    "data.Nama.value_counts().head(10)"
   ]
  },
  {
   "cell_type": "code",
   "execution_count": null,
   "id": "2b494cbe",
   "metadata": {
    "scrolled": true
   },
   "outputs": [],
   "source": [
    "data[data.Lokasi=='Indonesia']"
   ]
  },
  {
   "cell_type": "code",
   "execution_count": null,
   "id": "3df6ba61",
   "metadata": {},
   "outputs": [],
   "source": []
  }
 ],
 "metadata": {
  "kernelspec": {
   "display_name": "Python 3",
   "language": "python",
   "name": "python3"
  },
  "language_info": {
   "codemirror_mode": {
    "name": "ipython",
    "version": 3
   },
   "file_extension": ".py",
   "mimetype": "text/x-python",
   "name": "python",
   "nbconvert_exporter": "python",
   "pygments_lexer": "ipython3",
   "version": "3.8.8"
  }
 },
 "nbformat": 4,
 "nbformat_minor": 5
}
