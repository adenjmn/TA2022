{
 "cells": [
  {
   "cell_type": "code",
   "execution_count": 1,
   "id": "b444cc34-f3cf-483b-9b6d-516953792a18",
   "metadata": {},
   "outputs": [],
   "source": [
    "from selenium import webdriver\n",
    "from selenium.webdriver.common.by import By\n",
    "from selenium.webdriver.common.keys import Keys\n",
    "from selenium.webdriver.support.ui import WebDriverWait\n",
    "from selenium.webdriver.support import expected_conditions as EC\n",
    "from selenium.common.exceptions import TimeoutException\n",
    "\n",
    "import re\n",
    "\n",
    "import pandas as pd\n",
    "import requests\n",
    "from selenium.webdriver.common.desired_capabilities import DesiredCapabilities\n",
    "from selenium.webdriver.common.action_chains import ActionChains\n",
    "from selenium.common.exceptions import NoSuchElementException\n",
    "import time\n",
    "import sqlite3\n",
    "\n",
    "from bs4 import BeautifulSoup"
   ]
  },
  {
   "cell_type": "code",
   "execution_count": 2,
   "id": "50490c70-5324-4e0c-b40e-cd3ffaee13e7",
   "metadata": {},
   "outputs": [],
   "source": [
    "tempat = []\n",
    "link_gmaps = []\n",
    "deskripsi = []\n",
    "img =[]\n",
    "type =[]\n",
    "address=[]\n",
    "latitude=[]\n",
    "longitude = []"
   ]
  },
  {
   "cell_type": "code",
   "execution_count": 3,
   "id": "031c59d4-1042-47ca-bea4-3f6515fb7aa9",
   "metadata": {},
   "outputs": [],
   "source": [
    "from selenium.webdriver.chrome.service import Service\n",
    "\n",
    "service = Service('/home/ade/Documents/TA2022/chromedriver')\n",
    "\n",
    "service.start()\n",
    "\n",
    "driver = webdriver.Remote(service.service_url)"
   ]
  },
  {
   "cell_type": "code",
   "execution_count": 4,
   "id": "68295ce6-b257-41dd-b521-0aaba7f2ae51",
   "metadata": {},
   "outputs": [],
   "source": [
    "response = BeautifulSoup(driver.page_source, 'html.parser')\n",
    "\n",
    "def scrape():\n",
    "    try:\n",
    "        input_tempat = driver.find_element(By.CLASS_NAME,\"DUwDvf\")\n",
    "        tempat.append(input_tempat.text)\n",
    "    except:\n",
    "        tempat.append(\"NaN\")\n",
    "\n",
    "    get_url = driver.current_url\n",
    "    link_gmaps.append(get_url)\n",
    "    deskripsi.append(\"NaN\")\n",
    "    try:\n",
    "        input_type = driver.find_element(By.XPATH,'//*[@id=\"QA0Szd\"]/div/div/div[1]/div[2]/div/div[1]/div/div/div[2]/div/div[1]/div[2]/div/div[2]')\n",
    "        type.append(input_type.text)\n",
    "    except:\n",
    "        type.append(\"NaN\")\n",
    "\n",
    "    try:\n",
    "        input_img = driver.find_element(By.XPATH,'//*[@id=\"QA0Szd\"]/div/div/div[1]/div[2]/div/div[1]/div/div/div[1]/div[1]/button/img')\n",
    "        img.append(input_img.get_attribute(\"src\"))\n",
    "    except:\n",
    "        img.append(\"NaN\")\n",
    "    try:\n",
    "        input_add = input_add = driver.find_element(By.XPATH,'//*[@id=\"QA0Szd\"]/div/div/div[1]/div[2]/div/div[1]/div/div/div[7]/div[3]/button/div/div[2]/div[1]')\n",
    "        address.append(input_add.text)\n",
    "    except:\n",
    "        address.append(\"NaN\") \n",
    "    print(len(tempat),len(link_gmaps),len(deskripsi),len(img),len(type),len(address))"
   ]
  },
  {
   "cell_type": "code",
   "execution_count": 33,
   "id": "73fb0e07-d388-4c9b-850a-d41f54efb47b",
   "metadata": {},
   "outputs": [
    {
     "name": "stdout",
     "output_type": "stream",
     "text": [
      "25 25 25 25 25 25\n"
     ]
    }
   ],
   "source": [
    "scrape()"
   ]
  },
  {
   "cell_type": "code",
   "execution_count": 34,
   "id": "2a2c228d-d556-4ad9-8c86-e88f29baef1e",
   "metadata": {},
   "outputs": [
    {
     "name": "stdout",
     "output_type": "stream",
     "text": [
      "26 26 26 26 26 26\n"
     ]
    }
   ],
   "source": [
    "scrape()"
   ]
  },
  {
   "cell_type": "code",
   "execution_count": 35,
   "id": "0da03225-0fcb-4296-9d94-580e13c46fb6",
   "metadata": {},
   "outputs": [
    {
     "name": "stdout",
     "output_type": "stream",
     "text": [
      "27 27 27 27 27 27\n"
     ]
    }
   ],
   "source": [
    "scrape()"
   ]
  },
  {
   "cell_type": "code",
   "execution_count": 36,
   "id": "33c248ae-e1a6-4020-a2e7-f3e2fbf05db2",
   "metadata": {},
   "outputs": [
    {
     "data": {
      "text/html": [
       "<div>\n",
       "<style scoped>\n",
       "    .dataframe tbody tr th:only-of-type {\n",
       "        vertical-align: middle;\n",
       "    }\n",
       "\n",
       "    .dataframe tbody tr th {\n",
       "        vertical-align: top;\n",
       "    }\n",
       "\n",
       "    .dataframe thead th {\n",
       "        text-align: right;\n",
       "    }\n",
       "</style>\n",
       "<table border=\"1\" class=\"dataframe\">\n",
       "  <thead>\n",
       "    <tr style=\"text-align: right;\">\n",
       "      <th></th>\n",
       "      <th>tempat</th>\n",
       "      <th>link_gmaps</th>\n",
       "      <th>deskripsi</th>\n",
       "      <th>img</th>\n",
       "      <th>type</th>\n",
       "      <th>address</th>\n",
       "    </tr>\n",
       "  </thead>\n",
       "  <tbody>\n",
       "    <tr>\n",
       "      <th>22</th>\n",
       "      <td>Masjid Al Jumhur</td>\n",
       "      <td>https://www.google.com/maps/place/Masjid+Al+Ju...</td>\n",
       "      <td>NaN</td>\n",
       "      <td>https://lh5.googleusercontent.com/p/AF1QipOyqS...</td>\n",
       "      <td>Masjid</td>\n",
       "      <td>Jl. Raya Wado - Sumedang No.444, Situmekar, Ke...</td>\n",
       "    </tr>\n",
       "    <tr>\n",
       "      <th>23</th>\n",
       "      <td>Masjid Jami Ibadurrahman</td>\n",
       "      <td>https://www.google.com/maps/place/Masjid+Jami+...</td>\n",
       "      <td>NaN</td>\n",
       "      <td>https://lh5.googleusercontent.com/p/AF1QipOqie...</td>\n",
       "      <td>Masjid</td>\n",
       "      <td>42VX+WJ6, Ranjeng, Kec. Cisitu, Kabupaten Sume...</td>\n",
       "    </tr>\n",
       "    <tr>\n",
       "      <th>24</th>\n",
       "      <td>Masjid Al-Ikhlas</td>\n",
       "      <td>https://www.google.com/maps/place/Masjid+Al-Ik...</td>\n",
       "      <td>NaN</td>\n",
       "      <td>https://lh5.googleusercontent.com/p/AF1QipPiP-...</td>\n",
       "      <td>Masjid</td>\n",
       "      <td>437F+4RR, Unnamed Road, Pakualam, Kec. Darmara...</td>\n",
       "    </tr>\n",
       "    <tr>\n",
       "      <th>25</th>\n",
       "      <td>Masjid Jami Al Furqon</td>\n",
       "      <td>https://www.google.com/maps/place/Masjid+Jami+...</td>\n",
       "      <td>NaN</td>\n",
       "      <td>https://lh5.googleusercontent.com/p/AF1QipNqa-...</td>\n",
       "      <td>Masjid</td>\n",
       "      <td>4343+MPJ, Karangpakuan, Kec. Darmaraja, Kabupa...</td>\n",
       "    </tr>\n",
       "    <tr>\n",
       "      <th>26</th>\n",
       "      <td>Masjid Jami Nur Alawiyah</td>\n",
       "      <td>https://www.google.com/maps/place/Masjid+Jami+...</td>\n",
       "      <td>NaN</td>\n",
       "      <td>https://streetviewpixels-pa.googleapis.com/v1/...</td>\n",
       "      <td>Masjid</td>\n",
       "      <td>4347+7FC, Karangpakuan, Kec. Darmaraja, Kabupa...</td>\n",
       "    </tr>\n",
       "  </tbody>\n",
       "</table>\n",
       "</div>"
      ],
      "text/plain": [
       "                      tempat  \\\n",
       "22          Masjid Al Jumhur   \n",
       "23  Masjid Jami Ibadurrahman   \n",
       "24          Masjid Al-Ikhlas   \n",
       "25     Masjid Jami Al Furqon   \n",
       "26  Masjid Jami Nur Alawiyah   \n",
       "\n",
       "                                           link_gmaps deskripsi  \\\n",
       "22  https://www.google.com/maps/place/Masjid+Al+Ju...       NaN   \n",
       "23  https://www.google.com/maps/place/Masjid+Jami+...       NaN   \n",
       "24  https://www.google.com/maps/place/Masjid+Al-Ik...       NaN   \n",
       "25  https://www.google.com/maps/place/Masjid+Jami+...       NaN   \n",
       "26  https://www.google.com/maps/place/Masjid+Jami+...       NaN   \n",
       "\n",
       "                                                  img    type  \\\n",
       "22  https://lh5.googleusercontent.com/p/AF1QipOyqS...  Masjid   \n",
       "23  https://lh5.googleusercontent.com/p/AF1QipOqie...  Masjid   \n",
       "24  https://lh5.googleusercontent.com/p/AF1QipPiP-...  Masjid   \n",
       "25  https://lh5.googleusercontent.com/p/AF1QipNqa-...  Masjid   \n",
       "26  https://streetviewpixels-pa.googleapis.com/v1/...  Masjid   \n",
       "\n",
       "                                              address  \n",
       "22  Jl. Raya Wado - Sumedang No.444, Situmekar, Ke...  \n",
       "23  42VX+WJ6, Ranjeng, Kec. Cisitu, Kabupaten Sume...  \n",
       "24  437F+4RR, Unnamed Road, Pakualam, Kec. Darmara...  \n",
       "25  4343+MPJ, Karangpakuan, Kec. Darmaraja, Kabupa...  \n",
       "26  4347+7FC, Karangpakuan, Kec. Darmaraja, Kabupa...  "
      ]
     },
     "execution_count": 36,
     "metadata": {},
     "output_type": "execute_result"
    }
   ],
   "source": [
    "# if data != change id_gmaps use res_id\n",
    "import numpy as np\n",
    "df = pd.DataFrame(np.column_stack([tempat,link_gmaps,deskripsi,img,type,address]),\n",
    "                  columns=['tempat','link_gmaps','deskripsi','img','type','address'])\n",
    "df.tail(5)"
   ]
  },
  {
   "cell_type": "code",
   "execution_count": 37,
   "id": "6d8f59e7-63c0-48fd-ac3f-35c822918875",
   "metadata": {},
   "outputs": [
    {
     "name": "stdout",
     "output_type": "stream",
     "text": [
      "28 28 28 28 28 28\n"
     ]
    }
   ],
   "source": [
    "scrape()"
   ]
  },
  {
   "cell_type": "code",
   "execution_count": 31,
   "id": "9380449e-64c8-4d98-b94a-c71cee592c22",
   "metadata": {},
   "outputs": [
    {
     "name": "stdout",
     "output_type": "stream",
     "text": [
      "23 23 23 23 23 23\n"
     ]
    }
   ],
   "source": [
    "scrape()"
   ]
  },
  {
   "cell_type": "code",
   "execution_count": 32,
   "id": "2fefdab6-2c72-4caf-88dd-ab9c218fb511",
   "metadata": {},
   "outputs": [
    {
     "name": "stdout",
     "output_type": "stream",
     "text": [
      "24 24 24 24 24 24\n"
     ]
    }
   ],
   "source": [
    "scrape()"
   ]
  },
  {
   "cell_type": "markdown",
   "id": "e029b03c-e5cf-4826-a797-0eff4c6a094b",
   "metadata": {},
   "source": [
    "### TEST BROOOO\n",
    "try:\n",
    "    input_img = input_add = driver.find_element(By.XPATH,'//*[@id=\"QA0Szd\"]/div/div/div[1]/div[2]/div/div[1]/div/div/div[7]/div[3]/button/div/div[2]/div[1]')\n",
    "    print(input_img.text)\n",
    "except:\n",
    "    print(\"NaN\")\n",
    "\n",
    "** masjid sekitar **"
   ]
  },
  {
   "cell_type": "code",
   "execution_count": 38,
   "id": "500fe673-43c5-4883-af79-63f539a54a10",
   "metadata": {},
   "outputs": [
    {
     "data": {
      "text/plain": [
       "tempat\n",
       "Masjid AT-TAQWA                 1\n",
       "Masjid Jami Riyadu'ssholihin    1\n",
       "Masjid Jami Al Furqon           1\n",
       "Masjid Al-Ikhlas                1\n",
       "Masjid Jami Ibadurrahman        1\n",
       "Masjid Al Jumhur                1\n",
       "MASJID Jami AL-HIKMAH           1\n",
       "Masjid Baitul Mu'minin          1\n",
       "MASJID AL ILLIYYIN              1\n",
       "MASJID NURUL IKHLASH            1\n",
       "Name: count, dtype: int64"
      ]
     },
     "execution_count": 38,
     "metadata": {},
     "output_type": "execute_result"
    }
   ],
   "source": [
    "df.tempat.value_counts().head(10)"
   ]
  },
  {
   "cell_type": "code",
   "execution_count": 39,
   "id": "64262648-f026-4191-a323-357075fad90f",
   "metadata": {},
   "outputs": [],
   "source": [
    "df.to_csv('dataset_src/support-2023-temp.csv')  "
   ]
  },
  {
   "cell_type": "code",
   "execution_count": 40,
   "id": "2d673f6d-21a6-4fdd-8530-0d3c39f28262",
   "metadata": {},
   "outputs": [
    {
     "name": "stdout",
     "output_type": "stream",
     "text": [
      "<class 'pandas.core.frame.DataFrame'>\n",
      "RangeIndex: 27 entries, 0 to 26\n",
      "Data columns (total 6 columns):\n",
      " #   Column      Non-Null Count  Dtype \n",
      "---  ------      --------------  ----- \n",
      " 0   tempat      27 non-null     object\n",
      " 1   link_gmaps  27 non-null     object\n",
      " 2   deskripsi   27 non-null     object\n",
      " 3   img         27 non-null     object\n",
      " 4   type        27 non-null     object\n",
      " 5   address     27 non-null     object\n",
      "dtypes: object(6)\n",
      "memory usage: 1.4+ KB\n",
      "None\n"
     ]
    },
    {
     "data": {
      "text/html": [
       "<div>\n",
       "<style scoped>\n",
       "    .dataframe tbody tr th:only-of-type {\n",
       "        vertical-align: middle;\n",
       "    }\n",
       "\n",
       "    .dataframe tbody tr th {\n",
       "        vertical-align: top;\n",
       "    }\n",
       "\n",
       "    .dataframe thead th {\n",
       "        text-align: right;\n",
       "    }\n",
       "</style>\n",
       "<table border=\"1\" class=\"dataframe\">\n",
       "  <thead>\n",
       "    <tr style=\"text-align: right;\">\n",
       "      <th></th>\n",
       "      <th>tempat</th>\n",
       "      <th>link_gmaps</th>\n",
       "      <th>deskripsi</th>\n",
       "      <th>img</th>\n",
       "      <th>type</th>\n",
       "      <th>address</th>\n",
       "    </tr>\n",
       "  </thead>\n",
       "  <tbody>\n",
       "    <tr>\n",
       "      <th>0</th>\n",
       "      <td>Masjid AT-TAQWA</td>\n",
       "      <td>https://www.google.com/maps/place/Masjid+AT-TA...</td>\n",
       "      <td>NaN</td>\n",
       "      <td>https://lh5.googleusercontent.com/p/AF1QipPXLB...</td>\n",
       "      <td>Masjid</td>\n",
       "      <td>4QQP+RVR, Pasir Hantap, Genteng, Kec. Sukasari...</td>\n",
       "    </tr>\n",
       "    <tr>\n",
       "      <th>1</th>\n",
       "      <td>Masjid Nurul Haq</td>\n",
       "      <td>https://www.google.com/maps/place/Masjid+Nurul...</td>\n",
       "      <td>NaN</td>\n",
       "      <td>https://streetviewpixels-pa.googleapis.com/v1/...</td>\n",
       "      <td>Masjid</td>\n",
       "      <td>4QPJ+C6W, Puncak, Genteng, Kec. Sukasari, Kabu...</td>\n",
       "    </tr>\n",
       "    <tr>\n",
       "      <th>2</th>\n",
       "      <td>Masjid Raudhatul Ulum</td>\n",
       "      <td>https://www.google.com/maps/place/Masjid+Raudh...</td>\n",
       "      <td>NaN</td>\n",
       "      <td>https://lh5.googleusercontent.com/p/AF1QipOAKM...</td>\n",
       "      <td>Masjid</td>\n",
       "      <td>4QGJ+FF4, Genteng, Kec. Sukasari, Kabupaten Su...</td>\n",
       "    </tr>\n",
       "    <tr>\n",
       "      <th>3</th>\n",
       "      <td>Masjid Jamie At Taubah</td>\n",
       "      <td>https://www.google.com/maps/place/Masjid+Jamie...</td>\n",
       "      <td>NaN</td>\n",
       "      <td>NaN</td>\n",
       "      <td>Masjid</td>\n",
       "      <td>4QJJ+MVQ, Genteng, Kec. Sukasari, Kabupaten Su...</td>\n",
       "    </tr>\n",
       "    <tr>\n",
       "      <th>4</th>\n",
       "      <td>Masjid Asy Syifa</td>\n",
       "      <td>https://www.google.com/maps/place/Masjid+Asy+S...</td>\n",
       "      <td>NaN</td>\n",
       "      <td>https://streetviewpixels-pa.googleapis.com/v1/...</td>\n",
       "      <td>Masjid</td>\n",
       "      <td>4QHC+72F, Jl. Banjaran, Banyuresmi, Kec. Sukas...</td>\n",
       "    </tr>\n",
       "  </tbody>\n",
       "</table>\n",
       "</div>"
      ],
      "text/plain": [
       "                   tempat                                         link_gmaps  \\\n",
       "0         Masjid AT-TAQWA  https://www.google.com/maps/place/Masjid+AT-TA...   \n",
       "1        Masjid Nurul Haq  https://www.google.com/maps/place/Masjid+Nurul...   \n",
       "2   Masjid Raudhatul Ulum  https://www.google.com/maps/place/Masjid+Raudh...   \n",
       "3  Masjid Jamie At Taubah  https://www.google.com/maps/place/Masjid+Jamie...   \n",
       "4        Masjid Asy Syifa  https://www.google.com/maps/place/Masjid+Asy+S...   \n",
       "\n",
       "  deskripsi                                                img    type  \\\n",
       "0       NaN  https://lh5.googleusercontent.com/p/AF1QipPXLB...  Masjid   \n",
       "1       NaN  https://streetviewpixels-pa.googleapis.com/v1/...  Masjid   \n",
       "2       NaN  https://lh5.googleusercontent.com/p/AF1QipOAKM...  Masjid   \n",
       "3       NaN                                                NaN  Masjid   \n",
       "4       NaN  https://streetviewpixels-pa.googleapis.com/v1/...  Masjid   \n",
       "\n",
       "                                             address  \n",
       "0  4QQP+RVR, Pasir Hantap, Genteng, Kec. Sukasari...  \n",
       "1  4QPJ+C6W, Puncak, Genteng, Kec. Sukasari, Kabu...  \n",
       "2  4QGJ+FF4, Genteng, Kec. Sukasari, Kabupaten Su...  \n",
       "3  4QJJ+MVQ, Genteng, Kec. Sukasari, Kabupaten Su...  \n",
       "4  4QHC+72F, Jl. Banjaran, Banyuresmi, Kec. Sukas...  "
      ]
     },
     "execution_count": 40,
     "metadata": {},
     "output_type": "execute_result"
    }
   ],
   "source": [
    "# support = df\n",
    "support = df.drop_duplicates()\n",
    "print(support.info())\n",
    "support.head()"
   ]
  },
  {
   "cell_type": "code",
   "execution_count": 41,
   "id": "60f2ac17-e685-430a-aa4e-ce0fc1cf4333",
   "metadata": {},
   "outputs": [
    {
     "name": "stderr",
     "output_type": "stream",
     "text": [
      "/tmp/ipykernel_2572/2222938798.py:2: SettingWithCopyWarning: \n",
      "A value is trying to be set on a copy of a slice from a DataFrame.\n",
      "Try using .loc[row_indexer,col_indexer] = value instead\n",
      "\n",
      "See the caveats in the documentation: https://pandas.pydata.org/pandas-docs/stable/user_guide/indexing.html#returning-a-view-versus-a-copy\n",
      "  df_co['new'] = df_co.link_gmaps.str.split('@').str[1]\n",
      "/tmp/ipykernel_2572/2222938798.py:3: SettingWithCopyWarning: \n",
      "A value is trying to be set on a copy of a slice from a DataFrame.\n",
      "Try using .loc[row_indexer,col_indexer] = value instead\n",
      "\n",
      "See the caveats in the documentation: https://pandas.pydata.org/pandas-docs/stable/user_guide/indexing.html#returning-a-view-versus-a-copy\n",
      "  df_co['new_coord'] = df_co.new.str.split('/').str[0]\n"
     ]
    },
    {
     "data": {
      "text/plain": [
       "0        -6.8603946,107.7871375,17z\n",
       "1         -6.8634574,107.780562,17z\n",
       "2        -6.8737662,107.7811442,17z\n",
       "3        -6.8682987,107.7822471,17z\n",
       "4        -6.8718062,107.7700558,17z\n",
       "5         -6.924484,107.7728094,17z\n",
       "6        -6.9207196,107.7734095,17z\n",
       "7        -6.9242305,107.7794932,17z\n",
       "8        -6.9293967,107.7827661,17z\n",
       "9         -6.9117192,107.779492,17z\n",
       "10          -6.9266389,107.7721,17z\n",
       "11        -6.9326486,107.771452,17z\n",
       "12       -6.8800002,107.7993876,17z\n",
       "13         -6.873272,107.798454,17z\n",
       "14       -6.8018933,107.9198975,17z\n",
       "15        -6.7761537,107.926727,17z\n",
       "16       -6.7867512,107.9246659,17z\n",
       "17       -6.7799431,107.9291977,17z\n",
       "18       -6.7830713,107.9229562,17z\n",
       "19    -6.8309415,107.7947376,16.52z\n",
       "20       -6.8709363,108.0413666,17z\n",
       "21       -6.8628375,108.0484044,17z\n",
       "22       -6.8724645,108.0350909,17z\n",
       "23       -6.8552149,108.0490105,17z\n",
       "24       -6.8871362,108.0745051,17z\n",
       "25        -6.8932782,108.054253,17z\n",
       "26       -6.8943124,108.0636278,17z\n",
       "Name: new_coord, dtype: object"
      ]
     },
     "execution_count": 41,
     "metadata": {},
     "output_type": "execute_result"
    }
   ],
   "source": [
    "df_co = support[['link_gmaps']]\n",
    "df_co['new'] = df_co.link_gmaps.str.split('@').str[1]\n",
    "df_co['new_coord'] = df_co.new.str.split('/').str[0]\n",
    "# df_md['new_coord'] = df_md.new.str.split(',').str[0]\n",
    "df_co.new_coord"
   ]
  },
  {
   "cell_type": "code",
   "execution_count": 42,
   "id": "a5ca0752-a754-4a3f-9c07-bfbc7a87870c",
   "metadata": {},
   "outputs": [
    {
     "data": {
      "text/html": [
       "<div>\n",
       "<style scoped>\n",
       "    .dataframe tbody tr th:only-of-type {\n",
       "        vertical-align: middle;\n",
       "    }\n",
       "\n",
       "    .dataframe tbody tr th {\n",
       "        vertical-align: top;\n",
       "    }\n",
       "\n",
       "    .dataframe thead th {\n",
       "        text-align: right;\n",
       "    }\n",
       "</style>\n",
       "<table border=\"1\" class=\"dataframe\">\n",
       "  <thead>\n",
       "    <tr style=\"text-align: right;\">\n",
       "      <th></th>\n",
       "      <th>tempat</th>\n",
       "      <th>link_gmaps</th>\n",
       "      <th>deskripsi</th>\n",
       "      <th>img</th>\n",
       "      <th>type</th>\n",
       "      <th>address</th>\n",
       "      <th>latitude</th>\n",
       "      <th>longitude</th>\n",
       "    </tr>\n",
       "  </thead>\n",
       "  <tbody>\n",
       "    <tr>\n",
       "      <th>0</th>\n",
       "      <td>Masjid AT-TAQWA</td>\n",
       "      <td>https://www.google.com/maps/place/Masjid+AT-TA...</td>\n",
       "      <td>NaN</td>\n",
       "      <td>https://lh5.googleusercontent.com/p/AF1QipPXLB...</td>\n",
       "      <td>Masjid</td>\n",
       "      <td>4QQP+RVR, Pasir Hantap, Genteng, Kec. Sukasari...</td>\n",
       "      <td>-6.8603946</td>\n",
       "      <td>107.7871375</td>\n",
       "    </tr>\n",
       "    <tr>\n",
       "      <th>1</th>\n",
       "      <td>Masjid Nurul Haq</td>\n",
       "      <td>https://www.google.com/maps/place/Masjid+Nurul...</td>\n",
       "      <td>NaN</td>\n",
       "      <td>https://streetviewpixels-pa.googleapis.com/v1/...</td>\n",
       "      <td>Masjid</td>\n",
       "      <td>4QPJ+C6W, Puncak, Genteng, Kec. Sukasari, Kabu...</td>\n",
       "      <td>-6.8634574</td>\n",
       "      <td>107.780562</td>\n",
       "    </tr>\n",
       "    <tr>\n",
       "      <th>2</th>\n",
       "      <td>Masjid Raudhatul Ulum</td>\n",
       "      <td>https://www.google.com/maps/place/Masjid+Raudh...</td>\n",
       "      <td>NaN</td>\n",
       "      <td>https://lh5.googleusercontent.com/p/AF1QipOAKM...</td>\n",
       "      <td>Masjid</td>\n",
       "      <td>4QGJ+FF4, Genteng, Kec. Sukasari, Kabupaten Su...</td>\n",
       "      <td>-6.8737662</td>\n",
       "      <td>107.7811442</td>\n",
       "    </tr>\n",
       "  </tbody>\n",
       "</table>\n",
       "</div>"
      ],
      "text/plain": [
       "                  tempat                                         link_gmaps  \\\n",
       "0        Masjid AT-TAQWA  https://www.google.com/maps/place/Masjid+AT-TA...   \n",
       "1       Masjid Nurul Haq  https://www.google.com/maps/place/Masjid+Nurul...   \n",
       "2  Masjid Raudhatul Ulum  https://www.google.com/maps/place/Masjid+Raudh...   \n",
       "\n",
       "  deskripsi                                                img    type  \\\n",
       "0       NaN  https://lh5.googleusercontent.com/p/AF1QipPXLB...  Masjid   \n",
       "1       NaN  https://streetviewpixels-pa.googleapis.com/v1/...  Masjid   \n",
       "2       NaN  https://lh5.googleusercontent.com/p/AF1QipOAKM...  Masjid   \n",
       "\n",
       "                                             address    latitude    longitude  \n",
       "0  4QQP+RVR, Pasir Hantap, Genteng, Kec. Sukasari...  -6.8603946  107.7871375  \n",
       "1  4QPJ+C6W, Puncak, Genteng, Kec. Sukasari, Kabu...  -6.8634574   107.780562  \n",
       "2  4QGJ+FF4, Genteng, Kec. Sukasari, Kabupaten Su...  -6.8737662  107.7811442  "
      ]
     },
     "execution_count": 42,
     "metadata": {},
     "output_type": "execute_result"
    }
   ],
   "source": [
    "support['latitude'] = df_co.new_coord.str.split(',').str[0]\n",
    "support['longitude'] = df_co.new_coord.str.split(',').str[1]\n",
    "support.head(3)"
   ]
  },
  {
   "cell_type": "code",
   "execution_count": 43,
   "id": "e1ba9fe0-aba6-4f24-afbd-36438561e56e",
   "metadata": {},
   "outputs": [],
   "source": [
    "json_data = support.to_json(orient='records')\n",
    "with open('dataset_src/support-2023-temp.json', 'w') as json_file:\n",
    "    json_file.write(json_data)"
   ]
  },
  {
   "cell_type": "code",
   "execution_count": 44,
   "id": "20eddba4-6349-46cc-9c15-f17a98dce9bc",
   "metadata": {},
   "outputs": [],
   "source": [
    "import sqlite3\n",
    "import json\n",
    "\n",
    "# Baca data dari file JSON\n",
    "with open('dataset_src/support-2023-temp.json', 'r') as json_file:\n",
    "    data = json.load(json_file)\n",
    "\n",
    "# Buka koneksi ke database SQLite\n",
    "conn = sqlite3.connect('/home/ade/Documents/tugas-akhir-local-new.db')  # Gantilah 'nama_database.db' dengan nama database SQLite yang sesuai\n",
    "cursor = conn.cursor()\n",
    "\n",
    "\n",
    "# Masukkan data JSON ke tabel\n",
    "for item in data:\n",
    "    insert_data_sql = \"INSERT INTO support_place (tempat,link_gmaps,img,type, latitude,longitude,address) VALUES (?,?,?,?,?,?,?);\"\n",
    "    cursor.execute(insert_data_sql, (item['tempat'], item['link_gmaps'],item['img'],item['type'],item['latitude'],item['longitude'],item['address']))\n",
    "\n",
    "# Commit perubahan\n",
    "conn.commit()\n",
    "\n",
    "# Tutup koneksi\n",
    "conn.close()\n"
   ]
  },
  {
   "cell_type": "code",
   "execution_count": null,
   "id": "ac80d255-7a93-4aa3-b5cf-40bad7724343",
   "metadata": {},
   "outputs": [],
   "source": []
  }
 ],
 "metadata": {
  "kernelspec": {
   "display_name": "Python 3 (ipykernel)",
   "language": "python",
   "name": "python3"
  },
  "language_info": {
   "codemirror_mode": {
    "name": "ipython",
    "version": 3
   },
   "file_extension": ".py",
   "mimetype": "text/x-python",
   "name": "python",
   "nbconvert_exporter": "python",
   "pygments_lexer": "ipython3",
   "version": "3.8.10"
  }
 },
 "nbformat": 4,
 "nbformat_minor": 5
}
